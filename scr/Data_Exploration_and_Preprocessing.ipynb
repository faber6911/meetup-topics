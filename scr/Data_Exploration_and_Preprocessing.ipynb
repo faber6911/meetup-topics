{
 "cells": [
  {
   "cell_type": "markdown",
   "metadata": {},
   "source": [
    "# Exploration and Preprocessing"
   ]
  },
  {
   "cell_type": "code",
   "execution_count": 1,
   "metadata": {},
   "outputs": [
    {
     "name": "stderr",
     "output_type": "stream",
     "text": [
      "/opt/intel/intelpython3/lib/python3.6/site-packages/ipykernel_launcher.py:17: TqdmExperimentalWarning: Using `tqdm.autonotebook.tqdm` in notebook mode. Use `tqdm.tqdm` instead to force console mode (e.g. in jupyter console)\n"
     ]
    },
    {
     "data": {
      "text/plain": [
       "'0.25.3'"
      ]
     },
     "execution_count": 1,
     "metadata": {},
     "output_type": "execute_result"
    }
   ],
   "source": [
    "import pandas as pd\n",
    "import numpy as np\n",
    "import seaborn as sns\n",
    "from matplotlib import pyplot as plt\n",
    "import pickle\n",
    "try: \n",
    "    import emoji\n",
    "except ImportError:\n",
    "    !pip install emoji --user\n",
    "    import emoji\n",
    "    \n",
    "try:\n",
    "    from bs4 import BeautifulSoup \n",
    "except:\n",
    "    !pip install bs4 --user\n",
    "    from bs4 import BeautifulSoup\n",
    "from tqdm.autonotebook import  tqdm\n",
    "tqdm.pandas()\n",
    "\n",
    "try:\n",
    "    import nltk\n",
    "    #raise Exception\n",
    "except:\n",
    "    !pip install nltk --user\n",
    "    import nltk\n",
    "    nltk.download('punkt')\n",
    "    \n",
    "try:\n",
    "    import textblob\n",
    "except:\n",
    "    !pip install textblob --user\n",
    "    import textblob\n",
    "\n",
    "\n",
    "import re\n",
    "\n",
    "pd.__version__"
   ]
  },
  {
   "cell_type": "markdown",
   "metadata": {},
   "source": [
    "### Dropping Duplicates and NaN"
   ]
  },
  {
   "cell_type": "code",
   "execution_count": 2,
   "metadata": {},
   "outputs": [
    {
     "data": {
      "text/html": [
       "<div>\n",
       "<style scoped>\n",
       "    .dataframe tbody tr th:only-of-type {\n",
       "        vertical-align: middle;\n",
       "    }\n",
       "\n",
       "    .dataframe tbody tr th {\n",
       "        vertical-align: top;\n",
       "    }\n",
       "\n",
       "    .dataframe thead th {\n",
       "        text-align: right;\n",
       "    }\n",
       "</style>\n",
       "<table border=\"1\" class=\"dataframe\">\n",
       "  <thead>\n",
       "    <tr style=\"text-align: right;\">\n",
       "      <th></th>\n",
       "      <th>description</th>\n",
       "      <th>status</th>\n",
       "      <th>event_id</th>\n",
       "      <th>event_name</th>\n",
       "      <th>category</th>\n",
       "    </tr>\n",
       "  </thead>\n",
       "  <tbody>\n",
       "    <tr>\n",
       "      <th>0</th>\n",
       "      <td>&lt;p&gt;FOOD AND FELLOWSHIP | 5 PM&lt;/p&gt; \\n&lt;p&gt;CONCERT...</td>\n",
       "      <td>upcoming</td>\n",
       "      <td>239660020</td>\n",
       "      <td>We Are Messengers Concert</td>\n",
       "      <td>singles</td>\n",
       "    </tr>\n",
       "    <tr>\n",
       "      <th>1</th>\n",
       "      <td>&lt;p&gt;&lt;b&gt;【WhyNot!?JAPAN + MeetUp Collaboration Ev...</td>\n",
       "      <td>upcoming</td>\n",
       "      <td>239719229</td>\n",
       "      <td>Friendly Friday!!</td>\n",
       "      <td>socializing</td>\n",
       "    </tr>\n",
       "    <tr>\n",
       "      <th>2</th>\n",
       "      <td>&lt;p&gt;TENTATIVE&lt;br&gt;&lt;/p&gt;\\n&lt;p&gt;&lt;br&gt;&lt;/p&gt;\\n&lt;p&gt;10.30 - ...</td>\n",
       "      <td>upcoming</td>\n",
       "      <td>239691981</td>\n",
       "      <td>Ansible meetup</td>\n",
       "      <td>tech</td>\n",
       "    </tr>\n",
       "    <tr>\n",
       "      <th>3</th>\n",
       "      <td>&lt;p&gt;&lt;span&gt;Hey explorersssss, what's up?&lt;/span&gt;&lt;...</td>\n",
       "      <td>upcoming</td>\n",
       "      <td>239719250</td>\n",
       "      <td>Secret spot for Hong Kong night view + food ad...</td>\n",
       "      <td>language/ethnic identity</td>\n",
       "    </tr>\n",
       "    <tr>\n",
       "      <th>4</th>\n",
       "      <td>&lt;p&gt;Free, unauditioned, collaborative pop choir...</td>\n",
       "      <td>deleted</td>\n",
       "      <td>gpjktmywhbnb</td>\n",
       "      <td>Come and sing with us!</td>\n",
       "      <td>music</td>\n",
       "    </tr>\n",
       "  </tbody>\n",
       "</table>\n",
       "</div>"
      ],
      "text/plain": [
       "                                         description    status      event_id  \\\n",
       "0  <p>FOOD AND FELLOWSHIP | 5 PM</p> \\n<p>CONCERT...  upcoming     239660020   \n",
       "1  <p><b>【WhyNot!?JAPAN + MeetUp Collaboration Ev...  upcoming     239719229   \n",
       "2  <p>TENTATIVE<br></p>\\n<p><br></p>\\n<p>10.30 - ...  upcoming     239691981   \n",
       "3  <p><span>Hey explorersssss, what's up?</span><...  upcoming     239719250   \n",
       "4  <p>Free, unauditioned, collaborative pop choir...   deleted  gpjktmywhbnb   \n",
       "\n",
       "                                          event_name                  category  \n",
       "0                          We Are Messengers Concert                   singles  \n",
       "1                                  Friendly Friday!!               socializing  \n",
       "2                                     Ansible meetup                      tech  \n",
       "3  Secret spot for Hong Kong night view + food ad...  language/ethnic identity  \n",
       "4                             Come and sing with us!                     music  "
      ]
     },
     "execution_count": 2,
     "metadata": {},
     "output_type": "execute_result"
    }
   ],
   "source": [
    "# raw data loading\n",
    "\n",
    "df = pd.read_csv(\"../data/meetup.csv\")\n",
    "df.head()"
   ]
  },
  {
   "cell_type": "code",
   "execution_count": 3,
   "metadata": {},
   "outputs": [],
   "source": [
    "# removing useless columns\n",
    "\n",
    "df.drop(columns = [\"status\"], inplace=True)"
   ]
  },
  {
   "cell_type": "code",
   "execution_count": 4,
   "metadata": {},
   "outputs": [
    {
     "data": {
      "text/plain": [
       "(description     True\n",
       " event_id       False\n",
       " event_name     False\n",
       " category        True\n",
       " dtype: bool, 15436, 179883, (179883, 4))"
      ]
     },
     "execution_count": 4,
     "metadata": {},
     "output_type": "execute_result"
    }
   ],
   "source": [
    "# some NaN in the category and description series, \n",
    "\n",
    "df.isna().any(),\\\n",
    "df[ df.category.isna() | df.description.isna() ].shape[0], \\\n",
    "df.shape[0] -df[ df.category.isna() | df.description.isna() ].shape[0],\\\n",
    "df.dropna().shape"
   ]
  },
  {
   "cell_type": "code",
   "execution_count": 5,
   "metadata": {},
   "outputs": [
    {
     "data": {
      "text/plain": [
       "(179883, 4)"
      ]
     },
     "execution_count": 5,
     "metadata": {},
     "output_type": "execute_result"
    }
   ],
   "source": [
    "df.dropna(inplace=True)\n",
    "df.shape"
   ]
  },
  {
   "cell_type": "code",
   "execution_count": 6,
   "metadata": {},
   "outputs": [
    {
     "data": {
      "text/plain": [
       "((134207,),\n",
       " (179883, 4),\n",
       " 0         <p>FOOD AND FELLOWSHIP | 5 PM</p> \\n<p>CONCERT...\n",
       " 180285    <p>FOOD AND FELLOWSHIP | 5 PM</p>\\n<p>CONCERT ...\n",
       " Name: description, dtype: object)"
      ]
     },
     "execution_count": 6,
     "metadata": {},
     "output_type": "execute_result"
    }
   ],
   "source": [
    "# some events are duplicated during the streaming\n",
    "\n",
    "df.event_id.unique().shape, df.shape, df[df.event_id == \"239660020\"].description"
   ]
  },
  {
   "cell_type": "code",
   "execution_count": 7,
   "metadata": {},
   "outputs": [
    {
     "data": {
      "text/plain": [
       "(134207, 4)"
      ]
     },
     "execution_count": 7,
     "metadata": {},
     "output_type": "execute_result"
    }
   ],
   "source": [
    "# removing duplicate events keeping only the last description (i.e. the last modification of the event description)\n",
    "\n",
    "df.drop_duplicates(subset=\"event_id\", keep = \"last\", inplace=True)\n",
    "df.shape"
   ]
  },
  {
   "cell_type": "code",
   "execution_count": 8,
   "metadata": {
    "scrolled": true
   },
   "outputs": [
    {
     "data": {
      "text/plain": [
       "(socializing                 13498\n",
       " health/wellbeing            13349\n",
       " career/business             12322\n",
       " outdoors/adventure          11977\n",
       " tech                        11739\n",
       " new age/spirituality         8519\n",
       " sports/recreation            7005\n",
       " fitness                      6842\n",
       " language/ethnic identity     5689\n",
       " games                        4156\n",
       " food/drink                   3673\n",
       " dancing                      3555\n",
       " fine arts/culture            3177\n",
       " music                        2659\n",
       " education/learning           2626\n",
       " movements/politics           2604\n",
       " community/environment        2404\n",
       " religion/beliefs             2287\n",
       " singles                      2159\n",
       " parents/family               2010\n",
       " hobbies/crafts               1584\n",
       " photography                  1452\n",
       " movies/film                  1279\n",
       " support                      1169\n",
       " writing                      1080\n",
       " LGBT                         1071\n",
       " book clubs                   1011\n",
       " cars/motorcycles              917\n",
       " pets/animals                  850\n",
       " sci-fi/fantasy                644\n",
       " alternative lifestyle         550\n",
       " fashion/beauty                268\n",
       " paranormal                     82\n",
       " Name: category, dtype: int64,\n",
       " <matplotlib.axes._subplots.AxesSubplot at 0x7fcf9a169748>)"
      ]
     },
     "execution_count": 8,
     "metadata": {},
     "output_type": "execute_result"
    },
    {
     "data": {
      "image/png": "[encoded data removed]",
      "text/plain": [
       "<Figure size 432x288 with 1 Axes>"
      ]
     },
     "metadata": {
      "needs_background": "light"
     },
     "output_type": "display_data"
    }
   ],
   "source": [
    "# value count of categories\n",
    "\n",
    "df.category.value_counts(), \\\n",
    "sns.distplot(df.category.value_counts())"
   ]
  },
  {
   "cell_type": "code",
   "execution_count": 9,
   "metadata": {},
   "outputs": [
    {
     "data": {
      "text/plain": [
       "((134125, 4), socializing                 13498\n",
       " health/wellbeing            13349\n",
       " career/business             12322\n",
       " outdoors/adventure          11977\n",
       " tech                        11739\n",
       " new age/spirituality         8519\n",
       " sports/recreation            7005\n",
       " fitness                      6842\n",
       " language/ethnic identity     5689\n",
       " games                        4156\n",
       " food/drink                   3673\n",
       " dancing                      3555\n",
       " fine arts/culture            3177\n",
       " music                        2659\n",
       " education/learning           2626\n",
       " movements/politics           2604\n",
       " community/environment        2404\n",
       " religion/beliefs             2287\n",
       " singles                      2159\n",
       " parents/family               2010\n",
       " hobbies/crafts               1584\n",
       " photography                  1452\n",
       " movies/film                  1279\n",
       " support                      1169\n",
       " writing                      1080\n",
       " LGBT                         1071\n",
       " book clubs                   1011\n",
       " cars/motorcycles              917\n",
       " pets/animals                  850\n",
       " sci-fi/fantasy                644\n",
       " alternative lifestyle         550\n",
       " fashion/beauty                268\n",
       " Name: category, dtype: int64)"
      ]
     },
     "execution_count": 9,
     "metadata": {},
     "output_type": "execute_result"
    }
   ],
   "source": [
    "# removing paranormal category: under-represented\n",
    "\n",
    "df = df[df.category !=\"paranormal\"]\n",
    "df.shape, df.category.value_counts()"
   ]
  },
  {
   "cell_type": "code",
   "execution_count": 10,
   "metadata": {},
   "outputs": [
    {
     "name": "stdout",
     "output_type": "stream",
     "text": [
      "(32,)\n"
     ]
    }
   ],
   "source": [
    "# after a first classification attempt, blablabla FIXME\n",
    "# mapping fashion/beauty -> health/wellbeing,\n",
    "#         alternative lifestyle -> new age/spirituality\n",
    "#print(df.category.unique().shape)\n",
    "#df[\"category\"] = df.category.map(lambda x: \"health/wellbeing\" if x == \"fashion/beauty\" else x)\n",
    "#df[\"category\"] = df.category.map(lambda x: \"new age/spirituality\" if x == \"alternative lifestyle\" else x)\n",
    "#df[\"category\"] = df.category.map(lambda x: \"sci-fi/fantasy\" if x == \"alternative lifestyle\" else x)\n",
    "\n",
    "print(df.category.unique().shape)\n",
    "\n",
    "\n",
    "#df.category.value_counts()"
   ]
  },
  {
   "cell_type": "code",
   "execution_count": 11,
   "metadata": {},
   "outputs": [],
   "source": [
    "# label encoding the category for better representation \n",
    "from sklearn.preprocessing import LabelEncoder\n",
    "\n",
    "df.reset_index(drop=True, inplace=True)\n",
    "le = LabelEncoder()\n",
    "\n",
    "df[\"category_label\"] = le.fit_transform(df.category)"
   ]
  },
  {
   "cell_type": "markdown",
   "metadata": {},
   "source": [
    "### HTML tags removal & emoji stripping"
   ]
  },
  {
   "cell_type": "code",
   "execution_count": 12,
   "metadata": {
    "scrolled": true
   },
   "outputs": [
    {
     "data": {
      "application/vnd.jupyter.widget-view+json": {
       "model_id": "1c016ce608b349a09bebf075b5c15059",
       "version_major": 2,
       "version_minor": 0
      },
      "text/plain": [
       "A Jupyter Widget"
      ]
     },
     "metadata": {},
     "output_type": "display_data"
    },
    {
     "name": "stdout",
     "output_type": "stream",
     "text": [
      "\n"
     ]
    }
   ],
   "source": [
    "# html tag removal\n",
    " \n",
    "\n",
    "import warnings\n",
    "warnings.filterwarnings(\"ignore\", category=UserWarning, module='bs4')\n",
    "\n",
    "df[\"desc_no_html\"]= df.description.progress_map(lambda x :BeautifulSoup(x,\"lxml\").text)"
   ]
  },
  {
   "cell_type": "code",
   "execution_count": 13,
   "metadata": {},
   "outputs": [],
   "source": [
    "# concatenate event name to the description\n",
    "\n",
    "df[\"desc_no_html\"] = df.event_name + \" \" + df.desc_no_html"
   ]
  },
  {
   "cell_type": "code",
   "execution_count": 14,
   "metadata": {},
   "outputs": [
    {
     "data": {
      "application/vnd.jupyter.widget-view+json": {
       "model_id": "28efadd0625b41bcb1b933d43d6010af",
       "version_major": 2,
       "version_minor": 0
      },
      "text/plain": [
       "A Jupyter Widget"
      ]
     },
     "metadata": {},
     "output_type": "display_data"
    },
    {
     "name": "stdout",
     "output_type": "stream",
     "text": [
      "\n"
     ]
    }
   ],
   "source": [
    "# link removal via regex\n",
    "\n",
    "import re\n",
    "df[\"desc_no_html_no_link\"] = df.desc_no_html.progress_map(lambda x:  re.sub(r'^https?:\\/\\/.*[\\r\\n]*', '', x, flags=re.MULTILINE))"
   ]
  },
  {
   "cell_type": "code",
   "execution_count": 15,
   "metadata": {},
   "outputs": [
    {
     "data": {
      "application/vnd.jupyter.widget-view+json": {
       "model_id": "7de4fc43385f442d9913cdfe41647631",
       "version_major": 2,
       "version_minor": 0
      },
      "text/plain": [
       "A Jupyter Widget"
      ]
     },
     "metadata": {},
     "output_type": "display_data"
    },
    {
     "name": "stdout",
     "output_type": "stream",
     "text": [
      "\n"
     ]
    }
   ],
   "source": [
    "\n",
    "def give_emoji_free_text(text):\n",
    "    allchars = [str for str in text]\n",
    "    emoji_list = [c for c in allchars if c in emoji.UNICODE_EMOJI]\n",
    "    clean_text = ' '.join([str for str in text.split() if not any(i in str for i in emoji_list)])\n",
    "\n",
    "    return clean_text\n",
    "\n",
    "df[\"desc_no_html_no_link_no_emoji\"] = df.desc_no_html_no_link.progress_map(give_emoji_free_text)"
   ]
  },
  {
   "cell_type": "code",
   "execution_count": 16,
   "metadata": {},
   "outputs": [],
   "source": [
    "#with open(\"../data/df_no_html_no_link_no_emoji.pckl\", \"wb\") as outf:\n",
    "#    pickle.dump(df, outf)"
   ]
  },
  {
   "cell_type": "code",
   "execution_count": 17,
   "metadata": {},
   "outputs": [],
   "source": [
    "#with open(\"../data/df_no_html_no_link_no_emoji.pckl\", \"rb\") as inf:\n",
    "#    df = pickle.load(inf)"
   ]
  },
  {
   "cell_type": "code",
   "execution_count": 18,
   "metadata": {},
   "outputs": [
    {
     "data": {
      "text/html": [
       "<div>\n",
       "<style scoped>\n",
       "    .dataframe tbody tr th:only-of-type {\n",
       "        vertical-align: middle;\n",
       "    }\n",
       "\n",
       "    .dataframe tbody tr th {\n",
       "        vertical-align: top;\n",
       "    }\n",
       "\n",
       "    .dataframe thead th {\n",
       "        text-align: right;\n",
       "    }\n",
       "</style>\n",
       "<table border=\"1\" class=\"dataframe\">\n",
       "  <thead>\n",
       "    <tr style=\"text-align: right;\">\n",
       "      <th></th>\n",
       "      <th>description</th>\n",
       "      <th>event_id</th>\n",
       "      <th>event_name</th>\n",
       "      <th>category</th>\n",
       "      <th>category_label</th>\n",
       "      <th>desc_no_html</th>\n",
       "      <th>desc_no_html_no_link</th>\n",
       "      <th>desc_no_html_no_link_no_emoji</th>\n",
       "    </tr>\n",
       "  </thead>\n",
       "  <tbody>\n",
       "    <tr>\n",
       "      <th>0</th>\n",
       "      <td>&lt;p&gt;&lt;span&gt;Hey explorersssss, what's up?&lt;/span&gt;&lt;...</td>\n",
       "      <td>239719250</td>\n",
       "      <td>Secret spot for Hong Kong night view + food ad...</td>\n",
       "      <td>language/ethnic identity</td>\n",
       "      <td>15</td>\n",
       "      <td>Secret spot for Hong Kong night view + food ad...</td>\n",
       "      <td>Secret spot for Hong Kong night view + food ad...</td>\n",
       "      <td>Secret spot for Hong Kong night view + food ad...</td>\n",
       "    </tr>\n",
       "    <tr>\n",
       "      <th>1</th>\n",
       "      <td>&lt;p&gt;Free, unauditioned, collaborative pop choir...</td>\n",
       "      <td>gpjktmywhbnb</td>\n",
       "      <td>Come and sing with us!</td>\n",
       "      <td>music</td>\n",
       "      <td>18</td>\n",
       "      <td>Come and sing with us! Free, unauditioned, col...</td>\n",
       "      <td>Come and sing with us! Free, unauditioned, col...</td>\n",
       "      <td>Come and sing with us! Free, unauditioned, col...</td>\n",
       "    </tr>\n",
       "    <tr>\n",
       "      <th>2</th>\n",
       "      <td>&lt;p&gt;We provide a forum to learn about, promote ...</td>\n",
       "      <td>drrtzmywhbgb</td>\n",
       "      <td>East Valley Business Network Meetup</td>\n",
       "      <td>career/business</td>\n",
       "      <td>3</td>\n",
       "      <td>East Valley Business Network Meetup We provide...</td>\n",
       "      <td>East Valley Business Network Meetup We provide...</td>\n",
       "      <td>East Valley Business Network Meetup We provide...</td>\n",
       "    </tr>\n",
       "    <tr>\n",
       "      <th>3</th>\n",
       "      <td>&lt;p&gt;&lt;b&gt;【WhyNot!?JAPAN + MeetUp Collaboration Ev...</td>\n",
       "      <td>239719229</td>\n",
       "      <td>Friendly Friday!!</td>\n",
       "      <td>socializing</td>\n",
       "      <td>27</td>\n",
       "      <td>Friendly Friday!! 【WhyNot!?JAPAN + MeetUp Coll...</td>\n",
       "      <td>Friendly Friday!! 【WhyNot!?JAPAN + MeetUp Coll...</td>\n",
       "      <td>Friendly Friday!! 【WhyNot!?JAPAN + MeetUp Coll...</td>\n",
       "    </tr>\n",
       "    <tr>\n",
       "      <th>4</th>\n",
       "      <td>&lt;p&gt;This is an introductory meeting to get to k...</td>\n",
       "      <td>mtzxwmywjbjb</td>\n",
       "      <td>Authentication options</td>\n",
       "      <td>tech</td>\n",
       "      <td>30</td>\n",
       "      <td>Authentication options This is an introductory...</td>\n",
       "      <td>Authentication options This is an introductory...</td>\n",
       "      <td>Authentication options This is an introductory...</td>\n",
       "    </tr>\n",
       "  </tbody>\n",
       "</table>\n",
       "</div>"
      ],
      "text/plain": [
       "                                         description      event_id  \\\n",
       "0  <p><span>Hey explorersssss, what's up?</span><...     239719250   \n",
       "1  <p>Free, unauditioned, collaborative pop choir...  gpjktmywhbnb   \n",
       "2  <p>We provide a forum to learn about, promote ...  drrtzmywhbgb   \n",
       "3  <p><b>【WhyNot!?JAPAN + MeetUp Collaboration Ev...     239719229   \n",
       "4  <p>This is an introductory meeting to get to k...  mtzxwmywjbjb   \n",
       "\n",
       "                                          event_name  \\\n",
       "0  Secret spot for Hong Kong night view + food ad...   \n",
       "1                             Come and sing with us!   \n",
       "2                East Valley Business Network Meetup   \n",
       "3                                  Friendly Friday!!   \n",
       "4                             Authentication options   \n",
       "\n",
       "                   category  category_label  \\\n",
       "0  language/ethnic identity              15   \n",
       "1                     music              18   \n",
       "2           career/business               3   \n",
       "3               socializing              27   \n",
       "4                      tech              30   \n",
       "\n",
       "                                        desc_no_html  \\\n",
       "0  Secret spot for Hong Kong night view + food ad...   \n",
       "1  Come and sing with us! Free, unauditioned, col...   \n",
       "2  East Valley Business Network Meetup We provide...   \n",
       "3  Friendly Friday!! 【WhyNot!?JAPAN + MeetUp Coll...   \n",
       "4  Authentication options This is an introductory...   \n",
       "\n",
       "                                desc_no_html_no_link  \\\n",
       "0  Secret spot for Hong Kong night view + food ad...   \n",
       "1  Come and sing with us! Free, unauditioned, col...   \n",
       "2  East Valley Business Network Meetup We provide...   \n",
       "3  Friendly Friday!! 【WhyNot!?JAPAN + MeetUp Coll...   \n",
       "4  Authentication options This is an introductory...   \n",
       "\n",
       "                       desc_no_html_no_link_no_emoji  \n",
       "0  Secret spot for Hong Kong night view + food ad...  \n",
       "1  Come and sing with us! Free, unauditioned, col...  \n",
       "2  East Valley Business Network Meetup We provide...  \n",
       "3  Friendly Friday!! 【WhyNot!?JAPAN + MeetUp Coll...  \n",
       "4  Authentication options This is an introductory...  "
      ]
     },
     "execution_count": 18,
     "metadata": {},
     "output_type": "execute_result"
    }
   ],
   "source": [
    "df.head()"
   ]
  },
  {
   "cell_type": "markdown",
   "metadata": {},
   "source": [
    "### Language Detection and Language Selection"
   ]
  },
  {
   "cell_type": "code",
   "execution_count": 19,
   "metadata": {},
   "outputs": [],
   "source": []
  },
  {
   "cell_type": "code",
   "execution_count": 20,
   "metadata": {
    "scrolled": true
   },
   "outputs": [],
   "source": [
    "server = True\n",
    "if not server:\n",
    "    try:\n",
    "        from polyglot.detect import Detector\n",
    "    except ImportError:\n",
    "        #!pip install --user pyicu pycld2\n",
    "        !pip install polyglot --user\n",
    "\n",
    "        from polyglot.detect import Detector\n",
    "\n",
    "\n",
    "    df[\"lang\"] = \"NaN\"\n",
    "\n",
    "    def detect_lang(text):\n",
    "        try:\n",
    "            lang = Detector(text, quiet=True)\n",
    "            if lang.reliable:\n",
    "                return lang.language.name  if lang.language.confidence > 50 else \"low_conf\"\n",
    "            else: \n",
    "                return \"not_reliable\"\n",
    "        except Exception as e: \n",
    "            return \"error\"\n",
    "\n",
    "    def detect_lang_reliab(text):\n",
    "        try:\n",
    "            lang = Detector(text, quiet=True)\n",
    "            if lang.reliable:\n",
    "                return lang.language.confidence\n",
    "            else: \n",
    "                return \"not_reliable\"\n",
    "        except Exception as e: \n",
    "            return \"error\"\n",
    "\n",
    "    df[\"lang\"] = df.desc_no_html_no_link_no_emoji.progress_map(detect_lang)\n",
    "\n",
    "    df[\"lang_reliab\"] = df.desc_no_html_no_link_no_emoji.progress_map(detect_lang_reliab)\n",
    "\n",
    "    df.lang.value_counts()\n",
    "\n",
    "    #with open(\"df_no_html_no_link_no_emoji_lang.pckl\", \"wb\") as outf:\n",
    "    #    pickle.dump(df, outf)\n",
    "    \n",
    "else:\n",
    "    #with open(\"../data/backup/df_no_html_no_link_no_emoji_lang.pckl\", \"rb\") as inf:\n",
    "    #    df_lang = pickle.load(inf)\n",
    "\n",
    "    #df[\"lang\"] = df_lang.lang\n",
    "    #df[\"lang_reliab\"] = df_lang.lang_reliab\n",
    "    pass"
   ]
  },
  {
   "cell_type": "code",
   "execution_count": 21,
   "metadata": {},
   "outputs": [
    {
     "data": {
      "text/html": [
       "<div>\n",
       "<style scoped>\n",
       "    .dataframe tbody tr th:only-of-type {\n",
       "        vertical-align: middle;\n",
       "    }\n",
       "\n",
       "    .dataframe tbody tr th {\n",
       "        vertical-align: top;\n",
       "    }\n",
       "\n",
       "    .dataframe thead th {\n",
       "        text-align: right;\n",
       "    }\n",
       "</style>\n",
       "<table border=\"1\" class=\"dataframe\">\n",
       "  <thead>\n",
       "    <tr style=\"text-align: right;\">\n",
       "      <th></th>\n",
       "      <th>description</th>\n",
       "      <th>event_id</th>\n",
       "      <th>event_name</th>\n",
       "      <th>category</th>\n",
       "      <th>category_label</th>\n",
       "      <th>desc_no_html</th>\n",
       "      <th>desc_no_html_no_link</th>\n",
       "      <th>desc_no_html_no_link_no_emoji</th>\n",
       "      <th>lang</th>\n",
       "      <th>lang_reliab</th>\n",
       "    </tr>\n",
       "  </thead>\n",
       "  <tbody>\n",
       "    <tr>\n",
       "      <th>0</th>\n",
       "      <td>&lt;p&gt;&lt;span&gt;Hey explorersssss, what's up?&lt;/span&gt;&lt;...</td>\n",
       "      <td>239719250</td>\n",
       "      <td>Secret spot for Hong Kong night view + food ad...</td>\n",
       "      <td>language/ethnic identity</td>\n",
       "      <td>15</td>\n",
       "      <td>Secret spot for Hong Kong night view + food ad...</td>\n",
       "      <td>Secret spot for Hong Kong night view + food ad...</td>\n",
       "      <td>Secret spot for Hong Kong night view + food ad...</td>\n",
       "      <td>English</td>\n",
       "      <td>99</td>\n",
       "    </tr>\n",
       "    <tr>\n",
       "      <th>1</th>\n",
       "      <td>&lt;p&gt;Free, unauditioned, collaborative pop choir...</td>\n",
       "      <td>gpjktmywhbnb</td>\n",
       "      <td>Come and sing with us!</td>\n",
       "      <td>music</td>\n",
       "      <td>18</td>\n",
       "      <td>Come and sing with us! Free, unauditioned, col...</td>\n",
       "      <td>Come and sing with us! Free, unauditioned, col...</td>\n",
       "      <td>Come and sing with us! Free, unauditioned, col...</td>\n",
       "      <td>English</td>\n",
       "      <td>99</td>\n",
       "    </tr>\n",
       "    <tr>\n",
       "      <th>2</th>\n",
       "      <td>&lt;p&gt;We provide a forum to learn about, promote ...</td>\n",
       "      <td>drrtzmywhbgb</td>\n",
       "      <td>East Valley Business Network Meetup</td>\n",
       "      <td>career/business</td>\n",
       "      <td>3</td>\n",
       "      <td>East Valley Business Network Meetup We provide...</td>\n",
       "      <td>East Valley Business Network Meetup We provide...</td>\n",
       "      <td>East Valley Business Network Meetup We provide...</td>\n",
       "      <td>English</td>\n",
       "      <td>98</td>\n",
       "    </tr>\n",
       "    <tr>\n",
       "      <th>3</th>\n",
       "      <td>&lt;p&gt;&lt;b&gt;【WhyNot!?JAPAN + MeetUp Collaboration Ev...</td>\n",
       "      <td>239719229</td>\n",
       "      <td>Friendly Friday!!</td>\n",
       "      <td>socializing</td>\n",
       "      <td>27</td>\n",
       "      <td>Friendly Friday!! 【WhyNot!?JAPAN + MeetUp Coll...</td>\n",
       "      <td>Friendly Friday!! 【WhyNot!?JAPAN + MeetUp Coll...</td>\n",
       "      <td>Friendly Friday!! 【WhyNot!?JAPAN + MeetUp Coll...</td>\n",
       "      <td>English</td>\n",
       "      <td>92</td>\n",
       "    </tr>\n",
       "    <tr>\n",
       "      <th>4</th>\n",
       "      <td>&lt;p&gt;This is an introductory meeting to get to k...</td>\n",
       "      <td>mtzxwmywjbjb</td>\n",
       "      <td>Authentication options</td>\n",
       "      <td>tech</td>\n",
       "      <td>30</td>\n",
       "      <td>Authentication options This is an introductory...</td>\n",
       "      <td>Authentication options This is an introductory...</td>\n",
       "      <td>Authentication options This is an introductory...</td>\n",
       "      <td>English</td>\n",
       "      <td>99</td>\n",
       "    </tr>\n",
       "  </tbody>\n",
       "</table>\n",
       "</div>"
      ],
      "text/plain": [
       "                                         description      event_id  \\\n",
       "0  <p><span>Hey explorersssss, what's up?</span><...     239719250   \n",
       "1  <p>Free, unauditioned, collaborative pop choir...  gpjktmywhbnb   \n",
       "2  <p>We provide a forum to learn about, promote ...  drrtzmywhbgb   \n",
       "3  <p><b>【WhyNot!?JAPAN + MeetUp Collaboration Ev...     239719229   \n",
       "4  <p>This is an introductory meeting to get to k...  mtzxwmywjbjb   \n",
       "\n",
       "                                          event_name  \\\n",
       "0  Secret spot for Hong Kong night view + food ad...   \n",
       "1                             Come and sing with us!   \n",
       "2                East Valley Business Network Meetup   \n",
       "3                                  Friendly Friday!!   \n",
       "4                             Authentication options   \n",
       "\n",
       "                   category  category_label  \\\n",
       "0  language/ethnic identity              15   \n",
       "1                     music              18   \n",
       "2           career/business               3   \n",
       "3               socializing              27   \n",
       "4                      tech              30   \n",
       "\n",
       "                                        desc_no_html  \\\n",
       "0  Secret spot for Hong Kong night view + food ad...   \n",
       "1  Come and sing with us! Free, unauditioned, col...   \n",
       "2  East Valley Business Network Meetup We provide...   \n",
       "3  Friendly Friday!! 【WhyNot!?JAPAN + MeetUp Coll...   \n",
       "4  Authentication options This is an introductory...   \n",
       "\n",
       "                                desc_no_html_no_link  \\\n",
       "0  Secret spot for Hong Kong night view + food ad...   \n",
       "1  Come and sing with us! Free, unauditioned, col...   \n",
       "2  East Valley Business Network Meetup We provide...   \n",
       "3  Friendly Friday!! 【WhyNot!?JAPAN + MeetUp Coll...   \n",
       "4  Authentication options This is an introductory...   \n",
       "\n",
       "                       desc_no_html_no_link_no_emoji     lang lang_reliab  \n",
       "0  Secret spot for Hong Kong night view + food ad...  English          99  \n",
       "1  Come and sing with us! Free, unauditioned, col...  English          99  \n",
       "2  East Valley Business Network Meetup We provide...  English          98  \n",
       "3  Friendly Friday!! 【WhyNot!?JAPAN + MeetUp Coll...  English          92  \n",
       "4  Authentication options This is an introductory...  English          99  "
      ]
     },
     "execution_count": 21,
     "metadata": {},
     "output_type": "execute_result"
    }
   ],
   "source": [
    "df.head()"
   ]
  },
  {
   "cell_type": "code",
   "execution_count": 22,
   "metadata": {
    "scrolled": true
   },
   "outputs": [
    {
     "data": {
      "text/plain": [
       "<matplotlib.axes._subplots.AxesSubplot at 0x7fcf9832f860>"
      ]
     },
     "execution_count": 22,
     "metadata": {},
     "output_type": "execute_result"
    },
    {
     "data": {
      "image/png": "[encoded data removed]",
      "text/plain": [
       "<Figure size 432x288 with 1 Axes>"
      ]
     },
     "metadata": {
      "needs_background": "light"
     },
     "output_type": "display_data"
    }
   ],
   "source": [
    "sns.distplot(df.lang_reliab.apply(lambda x :float(x) if x != \"not_reliable\" and x != \"error\" else 0))"
   ]
  },
  {
   "cell_type": "code",
   "execution_count": 23,
   "metadata": {},
   "outputs": [
    {
     "name": "stdout",
     "output_type": "stream",
     "text": [
      "(134125, 10)\n"
     ]
    },
    {
     "data": {
      "text/plain": [
       "(120809, 10)"
      ]
     },
     "execution_count": 23,
     "metadata": {},
     "output_type": "execute_result"
    }
   ],
   "source": [
    "print(df.shape)\n",
    "df = df[df.lang == \"English\"]\n",
    "df.shape"
   ]
  },
  {
   "cell_type": "code",
   "execution_count": 24,
   "metadata": {},
   "outputs": [
    {
     "data": {
      "text/plain": [
       "(120809, 10)"
      ]
     },
     "execution_count": 24,
     "metadata": {},
     "output_type": "execute_result"
    }
   ],
   "source": [
    "df[df.lang_reliab > 50].shape"
   ]
  },
  {
   "cell_type": "markdown",
   "metadata": {},
   "source": [
    "### Punctuation removal"
   ]
  },
  {
   "cell_type": "code",
   "execution_count": 46,
   "metadata": {},
   "outputs": [],
   "source": [
    "import string\n",
    "#nltk.download('stopwords') #first usage\n",
    "#my_punct = string.punctuation.replace(\"'\",\"\")\n",
    "europ_languages = [\"english\", 'danish', 'dutch', 'english', 'finnish', 'french', 'german', 'hungarian', 'italian', 'norwegian', 'portuguese', 'russian', 'spanish', 'swedish', 'turkish']\n",
    "#europ_languages = [\"english\"]\n",
    "#europ_languages=nltk.corpus.stopwords.fileids()\n",
    "#europ_languages\n",
    "\n",
    "   \n",
    "stopwords = set(nltk.corpus.stopwords.words(europ_languages))                  \n",
    "stemmer =  nltk.PorterStemmer()"
   ]
  },
  {
   "cell_type": "code",
   "execution_count": 47,
   "metadata": {},
   "outputs": [
    {
     "data": {
      "text/plain": [
       "2146"
      ]
     },
     "execution_count": 47,
     "metadata": {},
     "output_type": "execute_result"
    }
   ],
   "source": [
    "len(stopwords)"
   ]
  },
  {
   "cell_type": "code",
   "execution_count": 51,
   "metadata": {},
   "outputs": [],
   "source": [
    "from nltk.corpus import wordnet as wn\n",
    "from nltk.stem.wordnet import WordNetLemmatizer\n",
    "from nltk import word_tokenize, pos_tag\n",
    "from collections import defaultdict\n",
    "\n",
    "text = df.desc_no_html_no_link_no_emoji[0]\n",
    "tag_map = defaultdict(lambda : wn.NOUN)\n",
    "tag_map['J'] = wn.ADJ\n",
    "tag_map['V'] = wn.VERB\n",
    "tag_map['R'] = wn.ADV\n",
    "\n",
    "#text = \"Another way of achieving this task\"\n",
    "#tokens = word_tokenize(text)\n",
    "lemmatizer = WordNetLemmatizer()\n",
    "\n",
    "def remove_punct_and_normalize(text, no_tokens, Stemmer, tag_map, lemmatizer, badwords = None, remove_badwords = False, stemm = True, lemm = False):\n",
    "    text = text.replace(\"'s \", \" \")\n",
    "    tokens = re.sub(\"[^a-zA-Z]\", \" \", text).lower().split( ) #.replace(\"|\",\"\").replace(\"!\",\"\").replace(\"?\",\"\")\n",
    "    if not remove_badwords:\n",
    "        no_stop_tokens = [token for token in tokens if token not in no_tokens]\n",
    "    else:\n",
    "        no_stop_tokens = [token for token in tokens if all([token not in no_tokens, token not in bad_words])] \n",
    "    \n",
    "    if stemm:\n",
    "        stemmed = [Stemmer.stem(elem) for elem in no_stop_tokens]\n",
    "        if remove_badwords:\n",
    "            stemmed = [elem for elem in stemmed if elem not in bad_words] #badwords after stemming\n",
    "        return( \" \".join(stemmed))\n",
    "    elif lemm:\n",
    "        lemmed = [lemmatizer.lemmatize(token, tag_map[tag[0]]) for token, tag in pos_tag(no_stop_tokens)]\n",
    "        if remove_badwords:\n",
    "            lemmed = [elem for elem in lemmed if elem not in bad_words] #badwords after stemming\n",
    "        return (\" \".join(lemmed))\n",
    "    else:\n",
    "        print(\"yolo\")\n",
    "        raise NotImplementedError\n",
    "\n",
    "from multiprocessing import cpu_count, Pool\n",
    "\n",
    "def parallelize(data, func, n_cores):\n",
    "    data_split = np.array_split(data, n_cores)\n",
    "    pool = Pool(n_cores)\n",
    "    data = pd.concat(pool.map(func, data_split))\n",
    "    pool.close()\n",
    "    pool.join()\n",
    "    return data\n",
    "#df[\"yolo\"]=\"NaN\"\n",
    "def lemmatization(data):\n",
    "    #print \"Process working on: \",data\n",
    "    data[\"desc_lemm\"] = data.desc_no_html_no_link_no_emoji.progress_map(lambda x: remove_punct_and_normalize(x, stopwords, stemmer, tag_map, lemmatizer, stemm = False, lemm = True))\n",
    "    return data\n",
    "\n",
    "def stemming(data):\n",
    "    #print \"Process working on: \",data\n",
    "    data[\"desc_stemm\"] = data.desc_no_html_no_link_no_emoji.progress_map(lambda x: remove_punct_and_normalize(x, stopwords, stemmer, tag_map, lemmatizer, stemm = True, lemm = False))\n",
    "    return data"
   ]
  },
  {
   "cell_type": "code",
   "execution_count": 49,
   "metadata": {
    "scrolled": true
   },
   "outputs": [
    {
     "name": "stdout",
     "output_type": "stream",
     "text": [
      "\n",
      "\n",
      "\n",
      "\n",
      "\n",
      "\n",
      "\n",
      "\n",
      "\n",
      "\n",
      "\n",
      "\n",
      "\n",
      "\n",
      "\n",
      "\n",
      "\n",
      "\n",
      "\n",
      "\n",
      "\n",
      "\n",
      "\n",
      "\n",
      "\n",
      "\n",
      "\n",
      "\n",
      "\n",
      "\n",
      "\n",
      "\n",
      "\n",
      "\n",
      "\n",
      "\n",
      "\n",
      "\n",
      "\n",
      "\n",
      "CPU times: user 3.51 s, sys: 6.69 s, total: 10.2 s\n",
      "Wall time: 45 s\n"
     ]
    }
   ],
   "source": [
    "%%time\n",
    "df = parallelize(df, stemming, n_cores = 40)"
   ]
  },
  {
   "cell_type": "code",
   "execution_count": 61,
   "metadata": {
    "scrolled": true
   },
   "outputs": [
    {
     "name": "stdout",
     "output_type": "stream",
     "text": [
      "\n",
      "\n",
      "\n",
      "\n",
      "\n",
      "\n",
      "\n",
      "\n",
      "\n",
      "\n",
      "\n",
      "\n",
      "\n",
      "\n",
      "\n",
      "\n",
      "\n",
      "\n",
      "\n",
      "\n",
      "\n",
      "\n",
      "\n",
      "\n",
      "\n",
      "\n",
      "\n",
      "\n",
      "\n",
      "\n",
      "\n",
      "\n",
      "\n",
      "\n",
      "\n",
      "\n",
      "\n",
      "\n",
      "\n",
      "\n",
      "CPU times: user 6.04 s, sys: 16.9 s, total: 22.9 s\n",
      "Wall time: 1min 49s\n"
     ]
    }
   ],
   "source": [
    "%%time\n",
    "df = parallelize(df, lemmatization, n_cores = 40)"
   ]
  },
  {
   "cell_type": "markdown",
   "metadata": {},
   "source": [
    "# Cleansing After LDA Clustering \n",
    "\n",
    "## (removing \"garbage\" cluster)"
   ]
  },
  {
   "cell_type": "code",
   "execution_count": 69,
   "metadata": {},
   "outputs": [
    {
     "data": {
      "text/plain": [
       "(86, 82)"
      ]
     },
     "execution_count": 69,
     "metadata": {},
     "output_type": "execute_result"
    }
   ],
   "source": [
    "# recurrent \"badwords\" identified by LDA clustering\n",
    "bad_words=[\n",
    "    \"www\", \"http\", \"https\", \"th\", \"pm\", \"ticket\", \"org\", \"event\", \"link\", \"registr\", \"hi\", \"oil\", \"en\", \"lo\", \"ca\", \n",
    "    \"month\", \"monday\", \"tuesday\", \"wednesday\", \"thursday\",\"friday\", \"saturday\", \"sunday\",\n",
    "    \"meetup\",\"meetups\", \"meet\",\"area\",\"happen\", \"event\", \"group\", \"regist\", \"pleas\", \"please\", \"join\", \"rsvp\", \"member\", \"mask\", \n",
    "    \"venu\", \"free\", \"comment\", \"thank\", \"attend\", \"eventbrit\", \"mr\", \"st\", \"rd\", \"hour\", \"mask\", \"locat\", \"everyone\", \"everyon\", \"contact\", \"anyone\", \"great\",\n",
    "    \"new\", \"time\", \"stand\", \"host\", \"check\", \"line\", \"com\", \"fee\", \"cost\", \"people\", \"day\", \"new\", \"know\", \"inform\", \"email\", \"bring\",\"welcome\", \"welcom\",\n",
    "    \"boston\", \"like\", \"la\", \"en\", \"los\", \"come\", \"let\", \"facebook\", \"available\",  \"help\", \"look\", \"register\", \"sign\",\"registration\",  ]\n",
    "len(bad_words), len(set(bad_words)) #woops"
   ]
  },
  {
   "cell_type": "code",
   "execution_count": 70,
   "metadata": {},
   "outputs": [],
   "source": [
    "def lemmatization_badwords(data):\n",
    "    #print \"Process working on: \",data\n",
    "    data[\"desc_lemm_no_badwords\"] = data.desc_no_html_no_link_no_emoji.progress_map(lambda x: remove_punct_and_normalize(x, stopwords, stemmer, tag_map, lemmatizer, badwords=bad_words, remove_badwords=True, stemm = False, lemm = True))\n",
    "    return data\n",
    "\n",
    "def stemming_badwords(data):\n",
    "    #print \"Process working on: \",data\n",
    "    data[\"desc_stemm_no_badwords\"] = data.desc_no_html_no_link_no_emoji.progress_map(lambda x: remove_punct_and_normalize(x, stopwords, stemmer, tag_map, lemmatizer,  badwords=bad_words, remove_badwords=True, stemm = True, lemm = False))\n",
    "    return data"
   ]
  },
  {
   "cell_type": "code",
   "execution_count": 71,
   "metadata": {},
   "outputs": [
    {
     "data": {
      "text/html": [
       "<div>\n",
       "<style scoped>\n",
       "    .dataframe tbody tr th:only-of-type {\n",
       "        vertical-align: middle;\n",
       "    }\n",
       "\n",
       "    .dataframe tbody tr th {\n",
       "        vertical-align: top;\n",
       "    }\n",
       "\n",
       "    .dataframe thead th {\n",
       "        text-align: right;\n",
       "    }\n",
       "</style>\n",
       "<table border=\"1\" class=\"dataframe\">\n",
       "  <thead>\n",
       "    <tr style=\"text-align: right;\">\n",
       "      <th></th>\n",
       "      <th>description</th>\n",
       "      <th>event_id</th>\n",
       "      <th>event_name</th>\n",
       "      <th>category</th>\n",
       "      <th>category_label</th>\n",
       "      <th>desc_no_html</th>\n",
       "      <th>desc_no_html_no_link</th>\n",
       "      <th>desc_no_html_no_link_no_emoji</th>\n",
       "      <th>lang</th>\n",
       "      <th>lang_reliab</th>\n",
       "      <th>desc_stemm</th>\n",
       "      <th>desc_lemm</th>\n",
       "      <th>desc_stemm_no_badwords</th>\n",
       "      <th>desc_lemm_no_badwords</th>\n",
       "    </tr>\n",
       "  </thead>\n",
       "  <tbody>\n",
       "    <tr>\n",
       "      <th>134120</th>\n",
       "      <td>&lt;p&gt;Shuttlecats is a new badminton group for qu...</td>\n",
       "      <td>239775649</td>\n",
       "      <td>SHUTTLECATS badminton session (meet at court 1)</td>\n",
       "      <td>fitness</td>\n",
       "      <td>10</td>\n",
       "      <td>SHUTTLECATS badminton session (meet at court 1...</td>\n",
       "      <td>SHUTTLECATS badminton session (meet at court 1...</td>\n",
       "      <td>SHUTTLECATS badminton session (meet at court 1...</td>\n",
       "      <td>English</td>\n",
       "      <td>99</td>\n",
       "      <td>shuttlecat badminton session meet court shuttl...</td>\n",
       "      <td>shuttlecats badminton session meet court shutt...</td>\n",
       "      <td>shuttlecat badminton session court shuttlecat ...</td>\n",
       "      <td>shuttlecats badminton session court shuttlecat...</td>\n",
       "    </tr>\n",
       "    <tr>\n",
       "      <th>134121</th>\n",
       "      <td>&lt;p&gt;Gathering the Tribe of Lightworkers/Energy ...</td>\n",
       "      <td>239775650</td>\n",
       "      <td>Lightworkers Unite</td>\n",
       "      <td>new age/spirituality</td>\n",
       "      <td>19</td>\n",
       "      <td>Lightworkers Unite Gathering the Tribe of Ligh...</td>\n",
       "      <td>Lightworkers Unite Gathering the Tribe of Ligh...</td>\n",
       "      <td>Lightworkers Unite Gathering the Tribe of Ligh...</td>\n",
       "      <td>English</td>\n",
       "      <td>99</td>\n",
       "      <td>lightwork unit gather tribe lightwork energi h...</td>\n",
       "      <td>lightworkers unite gather tribe lightworkers e...</td>\n",
       "      <td>lightwork unit gather tribe lightwork energi h...</td>\n",
       "      <td>lightworkers unite gather tribe lightworkers e...</td>\n",
       "    </tr>\n",
       "    <tr>\n",
       "      <th>134122</th>\n",
       "      <td>&lt;p&gt;I am hosting an event, and would like to in...</td>\n",
       "      <td>239775613</td>\n",
       "      <td>BREAKTHROUGH TO SUCCESS EVENT</td>\n",
       "      <td>career/business</td>\n",
       "      <td>3</td>\n",
       "      <td>BREAKTHROUGH TO SUCCESS EVENT I am hosting an ...</td>\n",
       "      <td>BREAKTHROUGH TO SUCCESS EVENT I am hosting an ...</td>\n",
       "      <td>BREAKTHROUGH TO SUCCESS EVENT I am hosting an ...</td>\n",
       "      <td>English</td>\n",
       "      <td>99</td>\n",
       "      <td>breakthrough success event host event would li...</td>\n",
       "      <td>breakthrough success event host event would li...</td>\n",
       "      <td>breakthrough success would invit along list si...</td>\n",
       "      <td>breakthrough success would invite along list s...</td>\n",
       "    </tr>\n",
       "    <tr>\n",
       "      <th>134123</th>\n",
       "      <td>&lt;p&gt;&lt;img src=\"https://secure.meetupstatic.com/p...</td>\n",
       "      <td>239775232</td>\n",
       "      <td>Great Glarus Hike</td>\n",
       "      <td>outdoors/adventure</td>\n",
       "      <td>20</td>\n",
       "      <td>Great Glarus Hike \\nDear All,\\nThe plan is to ...</td>\n",
       "      <td>Great Glarus Hike \\nDear All,\\nThe plan is to ...</td>\n",
       "      <td>Great Glarus Hike Dear All, The plan is to hav...</td>\n",
       "      <td>English</td>\n",
       "      <td>99</td>\n",
       "      <td>great glaru hike dear plan fantast hike glaru ...</td>\n",
       "      <td>great glarus hike dear plan fantastic hike gla...</td>\n",
       "      <td>great glaru hike dear plan fantast hike glaru ...</td>\n",
       "      <td>great glarus hike dear plan fantastic hike gla...</td>\n",
       "    </tr>\n",
       "    <tr>\n",
       "      <th>134124</th>\n",
       "      <td>&lt;p&gt;Travel two miles north of Concord Hospital....</td>\n",
       "      <td>239599549</td>\n",
       "      <td>Hike Trails from Carter Hill Orchard to Swope ...</td>\n",
       "      <td>outdoors/adventure</td>\n",
       "      <td>20</td>\n",
       "      <td>Hike Trails from Carter Hill Orchard to Swope ...</td>\n",
       "      <td>Hike Trails from Carter Hill Orchard to Swope ...</td>\n",
       "      <td>Hike Trails from Carter Hill Orchard to Swope ...</td>\n",
       "      <td>English</td>\n",
       "      <td>99</td>\n",
       "      <td>hike trail carter hill orchard swope back trav...</td>\n",
       "      <td>hike trail carter hill orchard swope back trav...</td>\n",
       "      <td>hike trail carter hill orchard swope back trav...</td>\n",
       "      <td>hike trail carter hill orchard swope back trav...</td>\n",
       "    </tr>\n",
       "  </tbody>\n",
       "</table>\n",
       "</div>"
      ],
      "text/plain": [
       "                                              description   event_id  \\\n",
       "134120  <p>Shuttlecats is a new badminton group for qu...  239775649   \n",
       "134121  <p>Gathering the Tribe of Lightworkers/Energy ...  239775650   \n",
       "134122  <p>I am hosting an event, and would like to in...  239775613   \n",
       "134123  <p><img src=\"https://secure.meetupstatic.com/p...  239775232   \n",
       "134124  <p>Travel two miles north of Concord Hospital....  239599549   \n",
       "\n",
       "                                               event_name  \\\n",
       "134120    SHUTTLECATS badminton session (meet at court 1)   \n",
       "134121                                 Lightworkers Unite   \n",
       "134122                      BREAKTHROUGH TO SUCCESS EVENT   \n",
       "134123                                  Great Glarus Hike   \n",
       "134124  Hike Trails from Carter Hill Orchard to Swope ...   \n",
       "\n",
       "                    category  category_label  \\\n",
       "134120               fitness              10   \n",
       "134121  new age/spirituality              19   \n",
       "134122       career/business               3   \n",
       "134123    outdoors/adventure              20   \n",
       "134124    outdoors/adventure              20   \n",
       "\n",
       "                                             desc_no_html  \\\n",
       "134120  SHUTTLECATS badminton session (meet at court 1...   \n",
       "134121  Lightworkers Unite Gathering the Tribe of Ligh...   \n",
       "134122  BREAKTHROUGH TO SUCCESS EVENT I am hosting an ...   \n",
       "134123  Great Glarus Hike \\nDear All,\\nThe plan is to ...   \n",
       "134124  Hike Trails from Carter Hill Orchard to Swope ...   \n",
       "\n",
       "                                     desc_no_html_no_link  \\\n",
       "134120  SHUTTLECATS badminton session (meet at court 1...   \n",
       "134121  Lightworkers Unite Gathering the Tribe of Ligh...   \n",
       "134122  BREAKTHROUGH TO SUCCESS EVENT I am hosting an ...   \n",
       "134123  Great Glarus Hike \\nDear All,\\nThe plan is to ...   \n",
       "134124  Hike Trails from Carter Hill Orchard to Swope ...   \n",
       "\n",
       "                            desc_no_html_no_link_no_emoji     lang  \\\n",
       "134120  SHUTTLECATS badminton session (meet at court 1...  English   \n",
       "134121  Lightworkers Unite Gathering the Tribe of Ligh...  English   \n",
       "134122  BREAKTHROUGH TO SUCCESS EVENT I am hosting an ...  English   \n",
       "134123  Great Glarus Hike Dear All, The plan is to hav...  English   \n",
       "134124  Hike Trails from Carter Hill Orchard to Swope ...  English   \n",
       "\n",
       "       lang_reliab                                         desc_stemm  \\\n",
       "134120          99  shuttlecat badminton session meet court shuttl...   \n",
       "134121          99  lightwork unit gather tribe lightwork energi h...   \n",
       "134122          99  breakthrough success event host event would li...   \n",
       "134123          99  great glaru hike dear plan fantast hike glaru ...   \n",
       "134124          99  hike trail carter hill orchard swope back trav...   \n",
       "\n",
       "                                                desc_lemm  \\\n",
       "134120  shuttlecats badminton session meet court shutt...   \n",
       "134121  lightworkers unite gather tribe lightworkers e...   \n",
       "134122  breakthrough success event host event would li...   \n",
       "134123  great glarus hike dear plan fantastic hike gla...   \n",
       "134124  hike trail carter hill orchard swope back trav...   \n",
       "\n",
       "                                   desc_stemm_no_badwords  \\\n",
       "134120  shuttlecat badminton session court shuttlecat ...   \n",
       "134121  lightwork unit gather tribe lightwork energi h...   \n",
       "134122  breakthrough success would invit along list si...   \n",
       "134123  great glaru hike dear plan fantast hike glaru ...   \n",
       "134124  hike trail carter hill orchard swope back trav...   \n",
       "\n",
       "                                    desc_lemm_no_badwords  \n",
       "134120  shuttlecats badminton session court shuttlecat...  \n",
       "134121  lightworkers unite gather tribe lightworkers e...  \n",
       "134122  breakthrough success would invite along list s...  \n",
       "134123  great glarus hike dear plan fantastic hike gla...  \n",
       "134124  hike trail carter hill orchard swope back trav...  "
      ]
     },
     "execution_count": 71,
     "metadata": {},
     "output_type": "execute_result"
    }
   ],
   "source": [
    "df.tail()"
   ]
  },
  {
   "cell_type": "code",
   "execution_count": 72,
   "metadata": {
    "scrolled": true
   },
   "outputs": [
    {
     "name": "stdout",
     "output_type": "stream",
     "text": [
      "\n",
      "\n",
      "\n",
      "\n",
      "\n",
      "\n",
      "\n",
      "\n",
      "\n",
      "\n",
      "\n",
      "\n",
      "\n",
      "\n",
      "\n",
      "\n",
      "\n",
      "\n",
      "\n",
      "\n",
      "\n",
      "\n",
      "\n",
      "\n",
      "\n",
      "\n",
      "\n",
      "\n",
      "\n",
      "\n",
      "\n",
      "\n",
      "\n",
      "\n",
      "\n",
      "\n",
      "\n",
      "\n",
      "\n",
      "\n",
      "CPU times: user 4.97 s, sys: 14.9 s, total: 19.8 s\n",
      "Wall time: 53.8 s\n"
     ]
    }
   ],
   "source": [
    "%%time\n",
    "df = parallelize(df, stemming_badwords, n_cores = 40)"
   ]
  },
  {
   "cell_type": "code",
   "execution_count": 73,
   "metadata": {
    "scrolled": true
   },
   "outputs": [
    {
     "name": "stdout",
     "output_type": "stream",
     "text": [
      "\n",
      "\n",
      "\n",
      "\n",
      "\n",
      "\n",
      "\n",
      "\n",
      "\n",
      "\n",
      "\n",
      "\n",
      "\n",
      "\n",
      "\n",
      "\n",
      "\n",
      "\n",
      "\n",
      "\n",
      "\n",
      "\n",
      "\n",
      "\n",
      "\n",
      "\n",
      "\n",
      "\n",
      "\n",
      "\n",
      "\n",
      "\n",
      "\n",
      "\n",
      "\n",
      "\n",
      "\n",
      "\n",
      "\n",
      "\n",
      "CPU times: user 5.24 s, sys: 16.2 s, total: 21.4 s\n",
      "Wall time: 1min 33s\n"
     ]
    }
   ],
   "source": [
    "%%time\n",
    "df = parallelize(df, lemmatization_badwords, n_cores = 40)"
   ]
  },
  {
   "cell_type": "code",
   "execution_count": 74,
   "metadata": {},
   "outputs": [
    {
     "data": {
      "text/html": [
       "<div>\n",
       "<style scoped>\n",
       "    .dataframe tbody tr th:only-of-type {\n",
       "        vertical-align: middle;\n",
       "    }\n",
       "\n",
       "    .dataframe tbody tr th {\n",
       "        vertical-align: top;\n",
       "    }\n",
       "\n",
       "    .dataframe thead th {\n",
       "        text-align: right;\n",
       "    }\n",
       "</style>\n",
       "<table border=\"1\" class=\"dataframe\">\n",
       "  <thead>\n",
       "    <tr style=\"text-align: right;\">\n",
       "      <th></th>\n",
       "      <th>description</th>\n",
       "      <th>event_id</th>\n",
       "      <th>event_name</th>\n",
       "      <th>category</th>\n",
       "      <th>category_label</th>\n",
       "      <th>desc_no_html</th>\n",
       "      <th>desc_no_html_no_link</th>\n",
       "      <th>desc_no_html_no_link_no_emoji</th>\n",
       "      <th>lang</th>\n",
       "      <th>lang_reliab</th>\n",
       "      <th>desc_stemm</th>\n",
       "      <th>desc_lemm</th>\n",
       "      <th>desc_stemm_no_badwords</th>\n",
       "      <th>desc_lemm_no_badwords</th>\n",
       "    </tr>\n",
       "  </thead>\n",
       "  <tbody>\n",
       "    <tr>\n",
       "      <th>134120</th>\n",
       "      <td>&lt;p&gt;Shuttlecats is a new badminton group for qu...</td>\n",
       "      <td>239775649</td>\n",
       "      <td>SHUTTLECATS badminton session (meet at court 1)</td>\n",
       "      <td>fitness</td>\n",
       "      <td>10</td>\n",
       "      <td>SHUTTLECATS badminton session (meet at court 1...</td>\n",
       "      <td>SHUTTLECATS badminton session (meet at court 1...</td>\n",
       "      <td>SHUTTLECATS badminton session (meet at court 1...</td>\n",
       "      <td>English</td>\n",
       "      <td>99</td>\n",
       "      <td>shuttlecat badminton session meet court shuttl...</td>\n",
       "      <td>shuttlecats badminton session meet court shutt...</td>\n",
       "      <td>shuttlecat badminton session court shuttlecat ...</td>\n",
       "      <td>shuttlecats badminton session court shuttlecat...</td>\n",
       "    </tr>\n",
       "    <tr>\n",
       "      <th>134121</th>\n",
       "      <td>&lt;p&gt;Gathering the Tribe of Lightworkers/Energy ...</td>\n",
       "      <td>239775650</td>\n",
       "      <td>Lightworkers Unite</td>\n",
       "      <td>new age/spirituality</td>\n",
       "      <td>19</td>\n",
       "      <td>Lightworkers Unite Gathering the Tribe of Ligh...</td>\n",
       "      <td>Lightworkers Unite Gathering the Tribe of Ligh...</td>\n",
       "      <td>Lightworkers Unite Gathering the Tribe of Ligh...</td>\n",
       "      <td>English</td>\n",
       "      <td>99</td>\n",
       "      <td>lightwork unit gather tribe lightwork energi h...</td>\n",
       "      <td>lightworkers unite gather tribe lightworkers e...</td>\n",
       "      <td>lightwork unit gather tribe lightwork energi h...</td>\n",
       "      <td>lightworkers unite gather tribe lightworkers e...</td>\n",
       "    </tr>\n",
       "    <tr>\n",
       "      <th>134122</th>\n",
       "      <td>&lt;p&gt;I am hosting an event, and would like to in...</td>\n",
       "      <td>239775613</td>\n",
       "      <td>BREAKTHROUGH TO SUCCESS EVENT</td>\n",
       "      <td>career/business</td>\n",
       "      <td>3</td>\n",
       "      <td>BREAKTHROUGH TO SUCCESS EVENT I am hosting an ...</td>\n",
       "      <td>BREAKTHROUGH TO SUCCESS EVENT I am hosting an ...</td>\n",
       "      <td>BREAKTHROUGH TO SUCCESS EVENT I am hosting an ...</td>\n",
       "      <td>English</td>\n",
       "      <td>99</td>\n",
       "      <td>breakthrough success event host event would li...</td>\n",
       "      <td>breakthrough success event host event would li...</td>\n",
       "      <td>breakthrough success would invit along list si...</td>\n",
       "      <td>breakthrough success would invite along list s...</td>\n",
       "    </tr>\n",
       "    <tr>\n",
       "      <th>134123</th>\n",
       "      <td>&lt;p&gt;&lt;img src=\"https://secure.meetupstatic.com/p...</td>\n",
       "      <td>239775232</td>\n",
       "      <td>Great Glarus Hike</td>\n",
       "      <td>outdoors/adventure</td>\n",
       "      <td>20</td>\n",
       "      <td>Great Glarus Hike \\nDear All,\\nThe plan is to ...</td>\n",
       "      <td>Great Glarus Hike \\nDear All,\\nThe plan is to ...</td>\n",
       "      <td>Great Glarus Hike Dear All, The plan is to hav...</td>\n",
       "      <td>English</td>\n",
       "      <td>99</td>\n",
       "      <td>great glaru hike dear plan fantast hike glaru ...</td>\n",
       "      <td>great glarus hike dear plan fantastic hike gla...</td>\n",
       "      <td>glaru hike dear plan fantast hike glaru region...</td>\n",
       "      <td>glarus hike dear plan fantastic hike glarus re...</td>\n",
       "    </tr>\n",
       "    <tr>\n",
       "      <th>134124</th>\n",
       "      <td>&lt;p&gt;Travel two miles north of Concord Hospital....</td>\n",
       "      <td>239599549</td>\n",
       "      <td>Hike Trails from Carter Hill Orchard to Swope ...</td>\n",
       "      <td>outdoors/adventure</td>\n",
       "      <td>20</td>\n",
       "      <td>Hike Trails from Carter Hill Orchard to Swope ...</td>\n",
       "      <td>Hike Trails from Carter Hill Orchard to Swope ...</td>\n",
       "      <td>Hike Trails from Carter Hill Orchard to Swope ...</td>\n",
       "      <td>English</td>\n",
       "      <td>99</td>\n",
       "      <td>hike trail carter hill orchard swope back trav...</td>\n",
       "      <td>hike trail carter hill orchard swope back trav...</td>\n",
       "      <td>hike trail carter hill orchard swope back trav...</td>\n",
       "      <td>hike trail carter hill orchard swope back trav...</td>\n",
       "    </tr>\n",
       "  </tbody>\n",
       "</table>\n",
       "</div>"
      ],
      "text/plain": [
       "                                              description   event_id  \\\n",
       "134120  <p>Shuttlecats is a new badminton group for qu...  239775649   \n",
       "134121  <p>Gathering the Tribe of Lightworkers/Energy ...  239775650   \n",
       "134122  <p>I am hosting an event, and would like to in...  239775613   \n",
       "134123  <p><img src=\"https://secure.meetupstatic.com/p...  239775232   \n",
       "134124  <p>Travel two miles north of Concord Hospital....  239599549   \n",
       "\n",
       "                                               event_name  \\\n",
       "134120    SHUTTLECATS badminton session (meet at court 1)   \n",
       "134121                                 Lightworkers Unite   \n",
       "134122                      BREAKTHROUGH TO SUCCESS EVENT   \n",
       "134123                                  Great Glarus Hike   \n",
       "134124  Hike Trails from Carter Hill Orchard to Swope ...   \n",
       "\n",
       "                    category  category_label  \\\n",
       "134120               fitness              10   \n",
       "134121  new age/spirituality              19   \n",
       "134122       career/business               3   \n",
       "134123    outdoors/adventure              20   \n",
       "134124    outdoors/adventure              20   \n",
       "\n",
       "                                             desc_no_html  \\\n",
       "134120  SHUTTLECATS badminton session (meet at court 1...   \n",
       "134121  Lightworkers Unite Gathering the Tribe of Ligh...   \n",
       "134122  BREAKTHROUGH TO SUCCESS EVENT I am hosting an ...   \n",
       "134123  Great Glarus Hike \\nDear All,\\nThe plan is to ...   \n",
       "134124  Hike Trails from Carter Hill Orchard to Swope ...   \n",
       "\n",
       "                                     desc_no_html_no_link  \\\n",
       "134120  SHUTTLECATS badminton session (meet at court 1...   \n",
       "134121  Lightworkers Unite Gathering the Tribe of Ligh...   \n",
       "134122  BREAKTHROUGH TO SUCCESS EVENT I am hosting an ...   \n",
       "134123  Great Glarus Hike \\nDear All,\\nThe plan is to ...   \n",
       "134124  Hike Trails from Carter Hill Orchard to Swope ...   \n",
       "\n",
       "                            desc_no_html_no_link_no_emoji     lang  \\\n",
       "134120  SHUTTLECATS badminton session (meet at court 1...  English   \n",
       "134121  Lightworkers Unite Gathering the Tribe of Ligh...  English   \n",
       "134122  BREAKTHROUGH TO SUCCESS EVENT I am hosting an ...  English   \n",
       "134123  Great Glarus Hike Dear All, The plan is to hav...  English   \n",
       "134124  Hike Trails from Carter Hill Orchard to Swope ...  English   \n",
       "\n",
       "       lang_reliab                                         desc_stemm  \\\n",
       "134120          99  shuttlecat badminton session meet court shuttl...   \n",
       "134121          99  lightwork unit gather tribe lightwork energi h...   \n",
       "134122          99  breakthrough success event host event would li...   \n",
       "134123          99  great glaru hike dear plan fantast hike glaru ...   \n",
       "134124          99  hike trail carter hill orchard swope back trav...   \n",
       "\n",
       "                                                desc_lemm  \\\n",
       "134120  shuttlecats badminton session meet court shutt...   \n",
       "134121  lightworkers unite gather tribe lightworkers e...   \n",
       "134122  breakthrough success event host event would li...   \n",
       "134123  great glarus hike dear plan fantastic hike gla...   \n",
       "134124  hike trail carter hill orchard swope back trav...   \n",
       "\n",
       "                                   desc_stemm_no_badwords  \\\n",
       "134120  shuttlecat badminton session court shuttlecat ...   \n",
       "134121  lightwork unit gather tribe lightwork energi h...   \n",
       "134122  breakthrough success would invit along list si...   \n",
       "134123  glaru hike dear plan fantast hike glaru region...   \n",
       "134124  hike trail carter hill orchard swope back trav...   \n",
       "\n",
       "                                    desc_lemm_no_badwords  \n",
       "134120  shuttlecats badminton session court shuttlecat...  \n",
       "134121  lightworkers unite gather tribe lightworkers e...  \n",
       "134122  breakthrough success would invite along list s...  \n",
       "134123  glarus hike dear plan fantastic hike glarus re...  \n",
       "134124  hike trail carter hill orchard swope back trav...  "
      ]
     },
     "execution_count": 74,
     "metadata": {},
     "output_type": "execute_result"
    }
   ],
   "source": [
    "df.tail()"
   ]
  },
  {
   "cell_type": "code",
   "execution_count": 75,
   "metadata": {},
   "outputs": [
    {
     "data": {
      "text/html": [
       "<div>\n",
       "<style scoped>\n",
       "    .dataframe tbody tr th:only-of-type {\n",
       "        vertical-align: middle;\n",
       "    }\n",
       "\n",
       "    .dataframe tbody tr th {\n",
       "        vertical-align: top;\n",
       "    }\n",
       "\n",
       "    .dataframe thead th {\n",
       "        text-align: right;\n",
       "    }\n",
       "</style>\n",
       "<table border=\"1\" class=\"dataframe\">\n",
       "  <thead>\n",
       "    <tr style=\"text-align: right;\">\n",
       "      <th></th>\n",
       "      <th>description</th>\n",
       "      <th>event_id</th>\n",
       "      <th>category</th>\n",
       "      <th>category_label</th>\n",
       "      <th>lang</th>\n",
       "      <th>lang_reliab</th>\n",
       "      <th>desc_stemm</th>\n",
       "      <th>desc_lemm</th>\n",
       "      <th>desc_stemm_no_badwords</th>\n",
       "      <th>desc_lemm_no_badwords</th>\n",
       "    </tr>\n",
       "  </thead>\n",
       "  <tbody>\n",
       "    <tr>\n",
       "      <th>0</th>\n",
       "      <td>&lt;p&gt;&lt;span&gt;Hey explorersssss, what's up?&lt;/span&gt;&lt;...</td>\n",
       "      <td>239719250</td>\n",
       "      <td>language/ethnic identity</td>\n",
       "      <td>15</td>\n",
       "      <td>English</td>\n",
       "      <td>99</td>\n",
       "      <td>secret spot hong kong night view food adventur...</td>\n",
       "      <td>secret spot hong kong night view food adventur...</td>\n",
       "      <td>secret spot hong kong night view food adventur...</td>\n",
       "      <td>secret spot hong kong night view food adventur...</td>\n",
       "    </tr>\n",
       "    <tr>\n",
       "      <th>1</th>\n",
       "      <td>&lt;p&gt;Free, unauditioned, collaborative pop choir...</td>\n",
       "      <td>gpjktmywhbnb</td>\n",
       "      <td>music</td>\n",
       "      <td>18</td>\n",
       "      <td>English</td>\n",
       "      <td>99</td>\n",
       "      <td>sing us free unaudit collabor pop choir identi...</td>\n",
       "      <td>sing u free unauditioned collaborative pop cho...</td>\n",
       "      <td>sing us unaudit collabor pop choir identifi wo...</td>\n",
       "      <td>sing u unauditioned collaborative pop choir id...</td>\n",
       "    </tr>\n",
       "    <tr>\n",
       "      <th>2</th>\n",
       "      <td>&lt;p&gt;We provide a forum to learn about, promote ...</td>\n",
       "      <td>drrtzmywhbgb</td>\n",
       "      <td>career/business</td>\n",
       "      <td>3</td>\n",
       "      <td>English</td>\n",
       "      <td>98</td>\n",
       "      <td>east valley busi network meetup provid forum l...</td>\n",
       "      <td>east valley business network meetup provide fo...</td>\n",
       "      <td>east valley busi network provid forum learn pr...</td>\n",
       "      <td>east valley business network provide forum lea...</td>\n",
       "    </tr>\n",
       "    <tr>\n",
       "      <th>3</th>\n",
       "      <td>&lt;p&gt;&lt;b&gt;【WhyNot!?JAPAN + MeetUp Collaboration Ev...</td>\n",
       "      <td>239719229</td>\n",
       "      <td>socializing</td>\n",
       "      <td>27</td>\n",
       "      <td>English</td>\n",
       "      <td>92</td>\n",
       "      <td>friendli friday whynot japan meetup collabor e...</td>\n",
       "      <td>friendly friday whynot japan meetup collaborat...</td>\n",
       "      <td>friendli whynot japan collabor whynot japan si...</td>\n",
       "      <td>friendly whynot japan collaboration whynot jap...</td>\n",
       "    </tr>\n",
       "    <tr>\n",
       "      <th>4</th>\n",
       "      <td>&lt;p&gt;This is an introductory meeting to get to k...</td>\n",
       "      <td>mtzxwmywjbjb</td>\n",
       "      <td>tech</td>\n",
       "      <td>30</td>\n",
       "      <td>English</td>\n",
       "      <td>99</td>\n",
       "      <td>authent option introductori meet get know fell...</td>\n",
       "      <td>authentication option introductory meet get kn...</td>\n",
       "      <td>authent option introductori get fellow coder s...</td>\n",
       "      <td>authentication option introductory get fellow ...</td>\n",
       "    </tr>\n",
       "  </tbody>\n",
       "</table>\n",
       "</div>"
      ],
      "text/plain": [
       "                                         description      event_id  \\\n",
       "0  <p><span>Hey explorersssss, what's up?</span><...     239719250   \n",
       "1  <p>Free, unauditioned, collaborative pop choir...  gpjktmywhbnb   \n",
       "2  <p>We provide a forum to learn about, promote ...  drrtzmywhbgb   \n",
       "3  <p><b>【WhyNot!?JAPAN + MeetUp Collaboration Ev...     239719229   \n",
       "4  <p>This is an introductory meeting to get to k...  mtzxwmywjbjb   \n",
       "\n",
       "                   category  category_label     lang lang_reliab  \\\n",
       "0  language/ethnic identity              15  English          99   \n",
       "1                     music              18  English          99   \n",
       "2           career/business               3  English          98   \n",
       "3               socializing              27  English          92   \n",
       "4                      tech              30  English          99   \n",
       "\n",
       "                                          desc_stemm  \\\n",
       "0  secret spot hong kong night view food adventur...   \n",
       "1  sing us free unaudit collabor pop choir identi...   \n",
       "2  east valley busi network meetup provid forum l...   \n",
       "3  friendli friday whynot japan meetup collabor e...   \n",
       "4  authent option introductori meet get know fell...   \n",
       "\n",
       "                                           desc_lemm  \\\n",
       "0  secret spot hong kong night view food adventur...   \n",
       "1  sing u free unauditioned collaborative pop cho...   \n",
       "2  east valley business network meetup provide fo...   \n",
       "3  friendly friday whynot japan meetup collaborat...   \n",
       "4  authentication option introductory meet get kn...   \n",
       "\n",
       "                              desc_stemm_no_badwords  \\\n",
       "0  secret spot hong kong night view food adventur...   \n",
       "1  sing us unaudit collabor pop choir identifi wo...   \n",
       "2  east valley busi network provid forum learn pr...   \n",
       "3  friendli whynot japan collabor whynot japan si...   \n",
       "4  authent option introductori get fellow coder s...   \n",
       "\n",
       "                               desc_lemm_no_badwords  \n",
       "0  secret spot hong kong night view food adventur...  \n",
       "1  sing u unauditioned collaborative pop choir id...  \n",
       "2  east valley business network provide forum lea...  \n",
       "3  friendly whynot japan collaboration whynot jap...  \n",
       "4  authentication option introductory get fellow ...  "
      ]
     },
     "execution_count": 75,
     "metadata": {},
     "output_type": "execute_result"
    }
   ],
   "source": [
    "df_drop = df.drop(columns = [\"event_name\", \"desc_no_html\", \"desc_no_html_no_link\", \"desc_no_html_no_link_no_emoji\" ])\n",
    "df_drop.head()"
   ]
  },
  {
   "cell_type": "code",
   "execution_count": 76,
   "metadata": {},
   "outputs": [],
   "source": [
    "df_drop.to_pickle(\"../data/df_preprocessed_eng.pckle\")"
   ]
  }
 ],
 "metadata": {
  "kernelspec": {
   "display_name": "Python 3",
   "language": "python",
   "name": "python3"
  },
  "language_info": {
   "codemirror_mode": {
    "name": "ipython",
    "version": 3
   },
   "file_extension": ".py",
   "mimetype": "text/x-python",
   "name": "python",
   "nbconvert_exporter": "python",
   "pygments_lexer": "ipython3",
   "version": "3.6.3"
  }
 },
 "nbformat": 4,
 "nbformat_minor": 2
}
