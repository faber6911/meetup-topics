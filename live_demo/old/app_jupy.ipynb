{
 "cells": [
  {
   "cell_type": "code",
   "execution_count": 85,
   "metadata": {},
   "outputs": [
    {
     "name": "stderr",
     "output_type": "stream",
     "text": [
      "/home/dario/.local/lib/python3.7/site-packages/tqdm/std.py:658: FutureWarning: The Panel class is removed from pandas. Accessing it from the top-level namespace will also be removed in the next version\n",
      "  from pandas import Panel\n"
     ]
    }
   ],
   "source": [
    "import pandas as pd\n",
    "import numpy as np\n",
    "import seaborn as sns\n",
    "from matplotlib import pyplot as plt\n",
    "import pickle\n",
    "try: \n",
    "    import emoji\n",
    "except ImportError:\n",
    "    !pip install emoji --user\n",
    "    import emoji\n",
    "    \n",
    "#try:\n",
    "#    from bs4 import BeautifulSoup \n",
    "#except:\n",
    "#    !pip install bs4 --user\n",
    "#    from bs4 import BeautifulSoup\n",
    "from tqdm.autonotebook import  tqdm\n",
    "tqdm.pandas()\n",
    "\n",
    "try:\n",
    "    import nltk\n",
    "    #raise Exception\n",
    "except:\n",
    "    !pip install nltk --user\n",
    "    import nltk\n",
    "    nltk.download('punkt')\n",
    "    \n",
    "#try:\n",
    "#    import textblob\n",
    "#except:\n",
    "#    !pip install textblob --user\n",
    "#    import textblob\n",
    "import re\n",
    "\n",
    "try:\n",
    "    from polyglot.detect import Detector\n",
    "except ImportError:\n",
    "    #!pip install --user pyicu pycld2\n",
    "    !pip install polyglot --user\n",
    "\n",
    "    from polyglot.detect import Detector\n",
    "    \n",
    "try:\n",
    "    from googletrans import Translator\n",
    "except:\n",
    "    !pip install googletrans --user\n",
    "    from googletrans import Translator\n",
    "    \n",
    "\n",
    "#!pip install -q livelossplot --user\n",
    "from livelossplot.keras import PlotLossesCallback"
   ]
  },
  {
   "cell_type": "code",
   "execution_count": null,
   "metadata": {},
   "outputs": [],
   "source": []
  },
  {
   "cell_type": "code",
   "execution_count": 2,
   "metadata": {},
   "outputs": [],
   "source": [
    "from flask import Flask, request, render_template\n",
    "from sklearn.feature_extraction.text import TfidfVectorizer\n",
    "from sklearn.metrics.pairwise import cosine_similarity\n",
    "from vaderSentiment.vaderSentiment import SentimentIntensityAnalyzer\n",
    "import nltk\n",
    "from nltk.corpus import stopwords\n",
    "\n",
    "#nltk.download('stopwords')\n",
    "#nltk.download('averaged_perceptron_tagger')\n",
    "\n",
    "\n",
    "set(stopwords.words('english'))\n",
    "app = Flask(__name__)"
   ]
  },
  {
   "cell_type": "code",
   "execution_count": 3,
   "metadata": {},
   "outputs": [
    {
     "data": {
      "text/html": [
       "<div>\n",
       "<style scoped>\n",
       "    .dataframe tbody tr th:only-of-type {\n",
       "        vertical-align: middle;\n",
       "    }\n",
       "\n",
       "    .dataframe tbody tr th {\n",
       "        vertical-align: top;\n",
       "    }\n",
       "\n",
       "    .dataframe thead th {\n",
       "        text-align: right;\n",
       "    }\n",
       "</style>\n",
       "<table border=\"1\" class=\"dataframe\">\n",
       "  <thead>\n",
       "    <tr style=\"text-align: right;\">\n",
       "      <th></th>\n",
       "      <th>description</th>\n",
       "      <th>event_id</th>\n",
       "      <th>category</th>\n",
       "      <th>category_label</th>\n",
       "      <th>lang</th>\n",
       "      <th>lang_reliab</th>\n",
       "      <th>desc_stemm</th>\n",
       "      <th>desc_lemm</th>\n",
       "      <th>desc_stemm_no_badwords</th>\n",
       "      <th>desc_lemm_no_badwords</th>\n",
       "      <th>remap_category</th>\n",
       "      <th>remap_category_label</th>\n",
       "    </tr>\n",
       "  </thead>\n",
       "  <tbody>\n",
       "    <tr>\n",
       "      <th>0</th>\n",
       "      <td>&lt;p&gt;&lt;span&gt;Hey explorersssss, what's up?&lt;/span&gt;&lt;...</td>\n",
       "      <td>239719250</td>\n",
       "      <td>language/ethnic identity</td>\n",
       "      <td>15</td>\n",
       "      <td>English</td>\n",
       "      <td>99</td>\n",
       "      <td>secret spot hong kong night view food adventur...</td>\n",
       "      <td>secret spot hong kong night view food adventur...</td>\n",
       "      <td>secret spot hong kong night view food adventur...</td>\n",
       "      <td>secret spot hong kong night view food adventur...</td>\n",
       "      <td>language/ethnic identity</td>\n",
       "      <td>11</td>\n",
       "    </tr>\n",
       "  </tbody>\n",
       "</table>\n",
       "</div>"
      ],
      "text/plain": [
       "                                         description   event_id  \\\n",
       "0  <p><span>Hey explorersssss, what's up?</span><...  239719250   \n",
       "\n",
       "                   category  category_label     lang lang_reliab  \\\n",
       "0  language/ethnic identity              15  English          99   \n",
       "\n",
       "                                          desc_stemm  \\\n",
       "0  secret spot hong kong night view food adventur...   \n",
       "\n",
       "                                           desc_lemm  \\\n",
       "0  secret spot hong kong night view food adventur...   \n",
       "\n",
       "                              desc_stemm_no_badwords  \\\n",
       "0  secret spot hong kong night view food adventur...   \n",
       "\n",
       "                               desc_lemm_no_badwords  \\\n",
       "0  secret spot hong kong night view food adventur...   \n",
       "\n",
       "             remap_category  remap_category_label  \n",
       "0  language/ethnic identity                    11  "
      ]
     },
     "execution_count": 3,
     "metadata": {},
     "output_type": "execute_result"
    }
   ],
   "source": [
    "df = pd.read_pickle(\"/home/dario/tm-project/data/df_preprocessed_eng_remap.pckle\")\n",
    "df.head(1)"
   ]
  },
  {
   "cell_type": "code",
   "execution_count": 61,
   "metadata": {},
   "outputs": [],
   "source": [
    "import gensim\n",
    "\n",
    "doc2vec_model = gensim.models.Doc2Vec.load(\"model_doc2vec\")"
   ]
  },
  {
   "cell_type": "code",
   "execution_count": 62,
   "metadata": {},
   "outputs": [],
   "source": [
    "import keras\n",
    "\n",
    "from keras.models import load_model\n",
    "\n",
    "model = load_model(\"NN_model.h5\")\n",
    "#model.summary()"
   ]
  },
  {
   "cell_type": "code",
   "execution_count": 63,
   "metadata": {},
   "outputs": [],
   "source": [
    "from gensim.models.doc2vec import TaggedDocument\n",
    "\n",
    "def vec_for_learning(model, tagged_docs):\n",
    "    #sents = tagged_docs.values\n",
    "    #regressors = [model.infer_vector(doc.words, steps=20) for doc in tqdm(tagged_docs.values)]\n",
    "    #return  regressors\n",
    "    targets, regressors = zip(*[(doc.tags[0], model.infer_vector(doc.words, steps=20)) for doc in tqdm(tagged_docs.values)])\n",
    "    return targets, regressors\n",
    "\n",
    "\n",
    "def fake_tagged_doc(desc):\n",
    "    arr=np.asarray(desc)\n",
    "    arr=pd.Series(arr)\n",
    "\n",
    "    test_tagged = arr.apply( lambda r: TaggedDocument(words=str(r).split(\" \"), tags=[\"NaN\"]))#, axis=1)\n",
    "    return test_tagged"
   ]
  },
  {
   "cell_type": "code",
   "execution_count": 7,
   "metadata": {},
   "outputs": [],
   "source": [
    "import emoji\n",
    "\n",
    "def give_emoji_free_text(text):\n",
    "    allchars = [str for str in text]\n",
    "    emoji_list = [c for c in allchars if c in emoji.UNICODE_EMOJI]\n",
    "    clean_text = ' '.join([str for str in text.split() if not any(i in str for i in emoji_list)])\n",
    "\n",
    "    return clean_text\n",
    "\n",
    "def detect_lang(text):\n",
    "    try:\n",
    "        lang = Detector(text, quiet=True)\n",
    "        if lang.reliable:\n",
    "            return lang.language.name  if lang.language.confidence > 50 else \"low_conf\"\n",
    "        else: \n",
    "            return \"not_reliable\"\n",
    "    except Exception as e: \n",
    "        return \"error\""
   ]
  },
  {
   "cell_type": "code",
   "execution_count": 8,
   "metadata": {},
   "outputs": [
    {
     "data": {
      "text/plain": [
       "(86, 82)"
      ]
     },
     "execution_count": 8,
     "metadata": {},
     "output_type": "execute_result"
    }
   ],
   "source": [
    "europ_languages = [\"english\", 'danish', 'dutch', 'english', 'finnish', 'french', 'german', 'hungarian', 'italian', 'norwegian', 'portuguese', 'russian', 'spanish', 'swedish', 'turkish']\n",
    "   \n",
    "stopwords = set(nltk.corpus.stopwords.words(europ_languages))    \n",
    "\n",
    "#nltk.download('wordnet')\n",
    "from nltk.corpus import wordnet as wn\n",
    "from nltk.stem.wordnet import WordNetLemmatizer\n",
    "from nltk import word_tokenize, pos_tag\n",
    "from collections import defaultdict\n",
    "\n",
    "tag_map = defaultdict(lambda : wn.NOUN)\n",
    "tag_map['J'] = wn.ADJ\n",
    "tag_map['V'] = wn.VERB\n",
    "tag_map['R'] = wn.ADV\n",
    "\n",
    "#text = \"Another way of achieving this task\"\n",
    "#tokens = word_tokenize(text)\n",
    "lemmatizer = WordNetLemmatizer()\n",
    "\n",
    "badwords=[\n",
    "    \"www\", \"http\", \"https\", \"th\", \"pm\", \"ticket\", \"org\", \"event\", \"link\", \"registr\", \"hi\", \"oil\", \"en\", \"lo\", \"ca\", \n",
    "    \"month\", \"monday\", \"tuesday\", \"wednesday\", \"thursday\",\"friday\", \"saturday\", \"sunday\",\n",
    "    \"meetup\",\"meetups\", \"meet\",\"area\",\"happen\", \"event\", \"group\", \"regist\", \"pleas\", \"please\", \"join\", \"rsvp\", \"member\", \"mask\", \n",
    "    \"venu\", \"free\", \"comment\", \"thank\", \"attend\", \"eventbrit\", \"mr\", \"st\", \"rd\", \"hour\", \"mask\", \"locat\", \"everyone\", \"everyon\", \"contact\", \"anyone\", \"great\",\n",
    "    \"new\", \"time\", \"stand\", \"host\", \"check\", \"line\", \"com\", \"fee\", \"cost\", \"people\", \"day\", \"new\", \"know\", \"inform\", \"email\", \"bring\",\"welcome\", \"welcom\",\n",
    "    \"boston\", \"like\", \"la\", \"en\", \"los\", \"come\", \"let\", \"facebook\", \"available\",  \"help\", \"look\", \"register\", \"sign\",\"registration\",  ]\n",
    "len(badwords), len(set(badwords)) #woops"
   ]
  },
  {
   "cell_type": "code",
   "execution_count": 16,
   "metadata": {},
   "outputs": [],
   "source": [
    "def preproc(raw_text, badwords = badwords, lemmatizer = lemmatizer, stopwords = stopwords, tag_map = tag_map):\n",
    "    text = re.sub(r'''(?i)\\b((?:https?://|www\\d{0,3}[.]|[a-z0-9.\\-]+[.][a-z]{2,4}/)(?:[^\\s()<>]+|\\(([^\\s()<>]+|(\\([^\\s()<>]+\\)))*\\))+(?:\\(([^\\s()<>]+|(\\([^\\s()<>]+\\)))*\\)|[^\\s`!()\\[\\]{};:'\".,<>?«»“”‘’]))''', \" \", raw_text)\n",
    "    text = give_emoji_free_text(text)\n",
    "    lang = detect_lang(text)\n",
    "    \n",
    "    \n",
    "    if lang != \"English\":\n",
    "        langs=Detector(text).languages\n",
    "        lang=langs[0].name.lower()        \n",
    "        translator= Translator()#from_lang=langs[0].code, to_lang=\"en\")\n",
    "        text = translator.translate(text).text\n",
    "    \n",
    "    text = text.replace(\"'s \", \" \")\n",
    "    text = re.sub(\"[^a-zA-Z]\", \" \", text).lower().split( ) #.replace(\"|\",\"\").replace(\"!\",\"\").replace(\"?\",\"\")\n",
    "    text = [token for token in text if all([token not in stopwords, token not in badwords])] \n",
    "    text = [lemmatizer.lemmatize(token, tag_map[tag[0]]) for token, tag in pos_tag(text)]\n",
    "    text = [elem for elem in text if elem not in badwords] #badwords after stemming\n",
    "    return (\" \".join(text))"
   ]
  },
  {
   "cell_type": "code",
   "execution_count": 21,
   "metadata": {},
   "outputs": [],
   "source": [
    "from sklearn.preprocessing import LabelEncoder\n",
    "from keras.utils import to_categorical\n",
    "category_remap_dict = {\n",
    "    \"LGBT\": \"socializing\",\n",
    "    \"singles\": \"socializing\",\n",
    "    \"fashion/beauty\": \"health/wellbeing\",\n",
    "    \"movies/film\": \"socializing\",\n",
    "    \"book clubs\": \"education/learning\",\n",
    "    \"sci-fi/fantasy\": \"games\",\n",
    "    \"support\": \"health/wellbeing\",\n",
    "    \"cars/motorcycles\": \"outdoors/adventure\"\n",
    "}\n",
    "\n",
    "df[\"remap_category_2\"] = df.category.map(lambda x: category_remap_dict[x] if x in category_remap_dict.keys() else x )\n",
    "\n",
    "lb = LabelEncoder().fit(df.remap_category_2)"
   ]
  },
  {
   "cell_type": "code",
   "execution_count": 25,
   "metadata": {},
   "outputs": [
    {
     "data": {
      "application/vnd.jupyter.widget-view+json": {
       "model_id": "94d43c56928e48b0b0b24d0c5dd85d81",
       "version_major": 2,
       "version_minor": 0
      },
      "text/plain": [
       "HBox(children=(FloatProgress(value=0.0, max=1.0), HTML(value='')))"
      ]
     },
     "metadata": {},
     "output_type": "display_data"
    },
    {
     "name": "stdout",
     "output_type": "stream",
     "text": [
      "\n"
     ]
    },
    {
     "data": {
      "text/plain": [
       "array(['career/business'], dtype=object)"
      ]
     },
     "execution_count": 25,
     "metadata": {},
     "output_type": "execute_result"
    }
   ],
   "source": [
    "clean_test=preproc(test_text_2)\n",
    "tag_doc=fake_tagged_doc(clean_test)\n",
    "desc_vec=vec_for_learning(doc2vec_model, tag_doc)\n",
    "predicted_category=model.predict_classes(np.array(desc_vec))\n",
    "\n",
    "lb.inverse_transform(predicted_category)"
   ]
  },
  {
   "cell_type": "code",
   "execution_count": 64,
   "metadata": {},
   "outputs": [
    {
     "data": {
      "application/vnd.jupyter.widget-view+json": {
       "model_id": "40758a99181c4f75abb7eade3b823d4b",
       "version_major": 2,
       "version_minor": 0
      },
      "text/plain": [
       "HBox(children=(FloatProgress(value=0.0, max=120809.0), HTML(value='')))"
      ]
     },
     "metadata": {},
     "output_type": "display_data"
    },
    {
     "name": "stdout",
     "output_type": "stream",
     "text": [
      "\n"
     ]
    }
   ],
   "source": [
    "tagged = df.progress_apply(lambda r: gensim.models.doc2vec.TaggedDocument(words=str(r.desc_lemm_no_badwords).split(\" \"), tags=[r.remap_category]), axis=1)"
   ]
  },
  {
   "cell_type": "code",
   "execution_count": 73,
   "metadata": {},
   "outputs": [
    {
     "data": {
      "application/vnd.jupyter.widget-view+json": {
       "model_id": "1985ef8f221b411e9f3ec67406538bc4",
       "version_major": 2,
       "version_minor": 0
      },
      "text/plain": [
       "HBox(children=(FloatProgress(value=0.0, max=120809.0), HTML(value='')))"
      ]
     },
     "metadata": {},
     "output_type": "display_data"
    },
    {
     "name": "stdout",
     "output_type": "stream",
     "text": [
      "\n"
     ]
    }
   ],
   "source": [
    "y, X = vec_for_learning(doc2vec_model, tagged)\n"
   ]
  },
  {
   "cell_type": "code",
   "execution_count": 70,
   "metadata": {},
   "outputs": [],
   "source": [
    "train_vect = np.asarray(X)\n",
    "y_ar = np.asarray(y)"
   ]
  },
  {
   "cell_type": "code",
   "execution_count": 79,
   "metadata": {},
   "outputs": [],
   "source": [
    "lb = LabelEncoder().fit(df.remap_category_2)\n",
    "y_tr = lb.transform(y_ar)\n",
    "y_cat_new = to_categorical(y_tr, num_classes = 24)\n"
   ]
  },
  {
   "cell_type": "code",
   "execution_count": 74,
   "metadata": {},
   "outputs": [],
   "source": [
    "train_vect_max = np.load(\"d2v_lemm_no_badwords.npz\")['X']\n",
    "y_max = np.load(\"d2v_lemm_no_badwords.npz\")['y']"
   ]
  },
  {
   "cell_type": "code",
   "execution_count": 76,
   "metadata": {},
   "outputs": [],
   "source": [
    "y_tr = lb.transform(y_max)\n",
    "y_cat = to_categorical(y_tr, num_classes = 24)\n"
   ]
  },
  {
   "cell_type": "code",
   "execution_count": 88,
   "metadata": {},
   "outputs": [],
   "source": [
    "from keras.models import clone_model\n",
    "from keras.optimizers import Nadam\n",
    "model_new = clone_model(model)\n",
    "lr = 0.00015\n",
    "optimizer = Nadam(lr = lr)\n",
    "loss = 'categorical_crossentropy'\n",
    "metrics = ['acc']\n",
    "model_new.compile(optimizer = Nadam(lr = lr), loss = loss, metrics = metrics)"
   ]
  },
  {
   "cell_type": "code",
   "execution_count": 90,
   "metadata": {},
   "outputs": [
    {
     "data": {
      "image/png": "[encoded data removed]",
      "text/plain": [
       "<Figure size 864x576 with 2 Axes>"
      ]
     },
     "metadata": {
      "needs_background": "light"
     },
     "output_type": "display_data"
    },
    {
     "name": "stdout",
     "output_type": "stream",
     "text": [
      "Log-loss (cost function):\n",
      "training   (min:    0.590, max:    0.889, cur:    0.598)\n",
      "validation (min:    1.530, max:    1.745, cur:    1.554)\n",
      "\n",
      "Accuracy:\n",
      "training   (min:    0.744, max:    0.822, cur:    0.803)\n",
      "validation (min:    0.560, max:    0.660, cur:    0.640)\n"
     ]
    },
    {
     "data": {
      "text/plain": [
       "<keras.callbacks.callbacks.History at 0x7f199a73fd50>"
      ]
     },
     "execution_count": 90,
     "metadata": {},
     "output_type": "execute_result"
    }
   ],
   "source": [
    "model_new.fit(train_vect, y_cat_new, \n",
    "              batch_size = 2048,\n",
    "              epochs = 100,\n",
    "              validation_split = .1,\n",
    "              verbose = 0,\n",
    "              callbacks = [PlotLossesCallback()])"
   ]
  },
  {
   "cell_type": "code",
   "execution_count": 91,
   "metadata": {},
   "outputs": [],
   "source": [
    "model_new.save(\"model_new.h5\")"
   ]
  },
  {
   "cell_type": "code",
   "execution_count": 77,
   "metadata": {},
   "outputs": [
    {
     "name": "stdout",
     "output_type": "stream",
     "text": [
      "120809/120809 [==============================] - 11s 93us/step\n"
     ]
    },
    {
     "data": {
      "text/plain": [
       "[0.5354822255963784, 0.8271817564964294]"
      ]
     },
     "execution_count": 77,
     "metadata": {},
     "output_type": "execute_result"
    }
   ],
   "source": [
    "model.evaluate(train_vect_max, y_cat)"
   ]
  },
  {
   "cell_type": "code",
   "execution_count": 13,
   "metadata": {},
   "outputs": [
    {
     "ename": "AssertionError",
     "evalue": "View function mapping is overwriting an existing endpoint function: my_form",
     "output_type": "error",
     "traceback": [
      "\u001b[0;31m---------------------------------------------------------------------------\u001b[0m",
      "\u001b[0;31mAssertionError\u001b[0m                            Traceback (most recent call last)",
      "\u001b[0;32m<ipython-input-13-a02b661f87a5>\u001b[0m in \u001b[0;36m<module>\u001b[0;34m()\u001b[0m\n\u001b[0;32m----> 1\u001b[0;31m \u001b[0;34m@\u001b[0m\u001b[0mapp\u001b[0m\u001b[0;34m.\u001b[0m\u001b[0mroute\u001b[0m\u001b[0;34m(\u001b[0m\u001b[0;34m'/'\u001b[0m\u001b[0;34m)\u001b[0m\u001b[0;34m\u001b[0m\u001b[0;34m\u001b[0m\u001b[0m\n\u001b[0m\u001b[1;32m      2\u001b[0m \u001b[0;32mdef\u001b[0m \u001b[0mmy_form\u001b[0m\u001b[0;34m(\u001b[0m\u001b[0;34m)\u001b[0m\u001b[0;34m:\u001b[0m\u001b[0;34m\u001b[0m\u001b[0;34m\u001b[0m\u001b[0m\n\u001b[1;32m      3\u001b[0m     \u001b[0;32mreturn\u001b[0m \u001b[0mrender_template\u001b[0m\u001b[0;34m(\u001b[0m\u001b[0;34m'form.html'\u001b[0m\u001b[0;34m)\u001b[0m\u001b[0;34m\u001b[0m\u001b[0;34m\u001b[0m\u001b[0m\n\u001b[1;32m      4\u001b[0m \u001b[0;34m\u001b[0m\u001b[0m\n\u001b[1;32m      5\u001b[0m \u001b[0;34m@\u001b[0m\u001b[0mapp\u001b[0m\u001b[0;34m.\u001b[0m\u001b[0mroute\u001b[0m\u001b[0;34m(\u001b[0m\u001b[0;34m'/'\u001b[0m\u001b[0;34m,\u001b[0m \u001b[0mmethods\u001b[0m\u001b[0;34m=\u001b[0m\u001b[0;34m[\u001b[0m\u001b[0;34m'POST'\u001b[0m\u001b[0;34m]\u001b[0m\u001b[0;34m)\u001b[0m\u001b[0;34m\u001b[0m\u001b[0;34m\u001b[0m\u001b[0m\n",
      "\u001b[0;32m/usr/lib/python3/dist-packages/flask/app.py\u001b[0m in \u001b[0;36mdecorator\u001b[0;34m(f)\u001b[0m\n\u001b[1;32m   1248\u001b[0m         \u001b[0;32mdef\u001b[0m \u001b[0mdecorator\u001b[0m\u001b[0;34m(\u001b[0m\u001b[0mf\u001b[0m\u001b[0;34m)\u001b[0m\u001b[0;34m:\u001b[0m\u001b[0;34m\u001b[0m\u001b[0;34m\u001b[0m\u001b[0m\n\u001b[1;32m   1249\u001b[0m             \u001b[0mendpoint\u001b[0m \u001b[0;34m=\u001b[0m \u001b[0moptions\u001b[0m\u001b[0;34m.\u001b[0m\u001b[0mpop\u001b[0m\u001b[0;34m(\u001b[0m\u001b[0;34m'endpoint'\u001b[0m\u001b[0;34m,\u001b[0m \u001b[0;32mNone\u001b[0m\u001b[0;34m)\u001b[0m\u001b[0;34m\u001b[0m\u001b[0;34m\u001b[0m\u001b[0m\n\u001b[0;32m-> 1250\u001b[0;31m             \u001b[0mself\u001b[0m\u001b[0;34m.\u001b[0m\u001b[0madd_url_rule\u001b[0m\u001b[0;34m(\u001b[0m\u001b[0mrule\u001b[0m\u001b[0;34m,\u001b[0m \u001b[0mendpoint\u001b[0m\u001b[0;34m,\u001b[0m \u001b[0mf\u001b[0m\u001b[0;34m,\u001b[0m \u001b[0;34m**\u001b[0m\u001b[0moptions\u001b[0m\u001b[0;34m)\u001b[0m\u001b[0;34m\u001b[0m\u001b[0;34m\u001b[0m\u001b[0m\n\u001b[0m\u001b[1;32m   1251\u001b[0m             \u001b[0;32mreturn\u001b[0m \u001b[0mf\u001b[0m\u001b[0;34m\u001b[0m\u001b[0;34m\u001b[0m\u001b[0m\n\u001b[1;32m   1252\u001b[0m         \u001b[0;32mreturn\u001b[0m \u001b[0mdecorator\u001b[0m\u001b[0;34m\u001b[0m\u001b[0;34m\u001b[0m\u001b[0m\n",
      "\u001b[0;32m/usr/lib/python3/dist-packages/flask/app.py\u001b[0m in \u001b[0;36mwrapper_func\u001b[0;34m(self, *args, **kwargs)\u001b[0m\n\u001b[1;32m     64\u001b[0m                 \u001b[0;34m'database models and everything related at a central place '\u001b[0m\u001b[0;34m\u001b[0m\u001b[0;34m\u001b[0m\u001b[0m\n\u001b[1;32m     65\u001b[0m                 'before the application starts serving requests.')\n\u001b[0;32m---> 66\u001b[0;31m         \u001b[0;32mreturn\u001b[0m \u001b[0mf\u001b[0m\u001b[0;34m(\u001b[0m\u001b[0mself\u001b[0m\u001b[0;34m,\u001b[0m \u001b[0;34m*\u001b[0m\u001b[0margs\u001b[0m\u001b[0;34m,\u001b[0m \u001b[0;34m**\u001b[0m\u001b[0mkwargs\u001b[0m\u001b[0;34m)\u001b[0m\u001b[0;34m\u001b[0m\u001b[0;34m\u001b[0m\u001b[0m\n\u001b[0m\u001b[1;32m     67\u001b[0m     \u001b[0;32mreturn\u001b[0m \u001b[0mupdate_wrapper\u001b[0m\u001b[0;34m(\u001b[0m\u001b[0mwrapper_func\u001b[0m\u001b[0;34m,\u001b[0m \u001b[0mf\u001b[0m\u001b[0;34m)\u001b[0m\u001b[0;34m\u001b[0m\u001b[0;34m\u001b[0m\u001b[0m\n\u001b[1;32m     68\u001b[0m \u001b[0;34m\u001b[0m\u001b[0m\n",
      "\u001b[0;32m/usr/lib/python3/dist-packages/flask/app.py\u001b[0m in \u001b[0;36madd_url_rule\u001b[0;34m(self, rule, endpoint, view_func, provide_automatic_options, **options)\u001b[0m\n\u001b[1;32m   1219\u001b[0m             \u001b[0;32mif\u001b[0m \u001b[0mold_func\u001b[0m \u001b[0;32mis\u001b[0m \u001b[0;32mnot\u001b[0m \u001b[0;32mNone\u001b[0m \u001b[0;32mand\u001b[0m \u001b[0mold_func\u001b[0m \u001b[0;34m!=\u001b[0m \u001b[0mview_func\u001b[0m\u001b[0;34m:\u001b[0m\u001b[0;34m\u001b[0m\u001b[0;34m\u001b[0m\u001b[0m\n\u001b[1;32m   1220\u001b[0m                 raise AssertionError('View function mapping is overwriting an '\n\u001b[0;32m-> 1221\u001b[0;31m                                      'existing endpoint function: %s' % endpoint)\n\u001b[0m\u001b[1;32m   1222\u001b[0m             \u001b[0mself\u001b[0m\u001b[0;34m.\u001b[0m\u001b[0mview_functions\u001b[0m\u001b[0;34m[\u001b[0m\u001b[0mendpoint\u001b[0m\u001b[0;34m]\u001b[0m \u001b[0;34m=\u001b[0m \u001b[0mview_func\u001b[0m\u001b[0;34m\u001b[0m\u001b[0;34m\u001b[0m\u001b[0m\n\u001b[1;32m   1223\u001b[0m \u001b[0;34m\u001b[0m\u001b[0m\n",
      "\u001b[0;31mAssertionError\u001b[0m: View function mapping is overwriting an existing endpoint function: my_form"
     ]
    }
   ],
   "source": [
    "@app.route('/')\n",
    "def my_form():\n",
    "    return render_template('form.html')\n",
    "\n",
    "@app.route('/', methods=['POST'])\n",
    "def my_form_post(preproc = preproc):\n",
    "    text1 = request.form['text1'].lower()\n",
    "\n",
    "    clean_test=preproc(text1)\n",
    "    tag_doc=fake_tagged_doc(clean_test)\n",
    "    desc_vec=vec_for_learning(doc2vec_model, tag_doc)\n",
    "    predicted_category=model.predict_classes(np.array(desc_vec))\n",
    "    \n",
    "    return render_template('form.html', final=\"yolo\", text1=text1, category = lb.inverse_transform(predicted_category))\n",
    "\n",
    "if __name__ == \"__main__\":\n",
    "    app.run(debug=True, host=\"127.0.0.1\", port=5002, threaded=True)"
   ]
  },
  {
   "cell_type": "code",
   "execution_count": null,
   "metadata": {},
   "outputs": [],
   "source": [
    "%tb"
   ]
  },
  {
   "cell_type": "code",
   "execution_count": null,
   "metadata": {},
   "outputs": [],
   "source": []
  }
 ],
 "metadata": {
  "kernelspec": {
   "display_name": "Python 3",
   "language": "python",
   "name": "python3"
  },
  "language_info": {
   "codemirror_mode": {
    "name": "ipython",
    "version": 3
   },
   "file_extension": ".py",
   "mimetype": "text/x-python",
   "name": "python",
   "nbconvert_exporter": "python",
   "pygments_lexer": "ipython3",
   "version": "3.7.5"
  }
 },
 "nbformat": 4,
 "nbformat_minor": 2
}
